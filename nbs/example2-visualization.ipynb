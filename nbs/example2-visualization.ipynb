{
 "cells": [
  {
   "cell_type": "markdown",
   "metadata": {},
   "source": [
    "# Visualization\n",
    "\n",
    "Let's load first an image\n"
   ]
  },
  {
   "cell_type": "code",
   "execution_count": null,
   "metadata": {},
   "outputs": [],
   "source": [
    "import tifffile\n",
    "\n",
    "filename = '../data/example.tif'\n",
    "img = tifffile.imread(filename)\n",
    "print(\"The shape of the array is [depth x channels x height x width]\", img.shape)"
   ]
  },
  {
   "cell_type": "markdown",
   "metadata": {},
   "source": [
    "We can display a 2D image using imshow from matplotlib. To display the two channels together, we create a RGB image by coding a small function 'to_rgb' than takes as an input an image with 2 channels with channel being the first index and return an images with 3 channels with channels as last index."
   ]
  },
  {
   "cell_type": "code",
   "execution_count": null,
   "metadata": {},
   "outputs": [],
   "source": [
    "import matplotlib.pyplot as plt\n",
    "import numpy as np\n",
    "\n",
    "def to_rgb(array):\n",
    "    ''' Convert the a cxy 2 channel image to a xyc rgb image'''\n",
    "    shp = (array.shape[1],array.shape[2],3)\n",
    "    rgb = np.zeros(shp,dtype=array.dtype)\n",
    "    rgb[:,:,0] = array[0,:,:]\n",
    "    rgb[:,:,1] = array[1,:,:]\n",
    "    return rgb\n",
    "\n",
    "plt.imshow(to_rgb(img[12,:,:,:]))\n",
    "plt.axis('off')\n",
    "plt.show()"
   ]
  },
  {
   "cell_type": "markdown",
   "metadata": {},
   "source": [
    "We can install a scale bar to the figure using the scalebar module that can be installed using ```pip install matplotlib-scalebar```. We'll also see how to save the figure to a pdf file that can be later used for publication."
   ]
  },
  {
   "cell_type": "code",
   "execution_count": null,
   "metadata": {},
   "outputs": [],
   "source": [
    "# let's load the module\n",
    "from matplotlib_scalebar.scalebar import ScaleBar\n",
    "\n",
    "fig, ax = plt.subplots()\n",
    "plt.imshow(to_rgb(img[12,:,:,:]))\n",
    "scalebar = ScaleBar(0.08, \"um\", length_fraction=0.25, color=[1,1,1],box_color=[0,0,0],location='lower right')\n",
    "ax.add_artist(scalebar)\n",
    "plt.axis('off')\n",
    "plt.savefig('../scratch/figure.png',dpi=600)\n",
    "plt.show()"
   ]
  },
  {
   "cell_type": "markdown",
   "metadata": {},
   "source": [
    "## Maximum intensity projection\n",
    "A usual to visualize 3D data sets is to compute a maximum intensity projection."
   ]
  },
  {
   "cell_type": "code",
   "execution_count": null,
   "metadata": {},
   "outputs": [],
   "source": [
    "import numpy as np\n",
    "\n",
    "print('The original image shape is', img.shape)\n",
    "\n",
    "# compute the maximum intensity projection along the 1st axis (index 0)\n",
    "mip = np.amax(img,axis=0)\n",
    "\n",
    "# display the result\n",
    "plt.imshow(to_rgb(mip))\n",
    "plt.axis('off')\n",
    "plt.title('Maximum intensity projection')\n",
    "plt.show()"
   ]
  },
  {
   "cell_type": "markdown",
   "metadata": {},
   "source": [
    "Let's add a widget to explore the z serie. We'll reuse here the image already loaded and the function to_rgb to convert the image plane by plane. We need to code an update function that refresh the displayed image and used it in the inteact function which will display a widget slider controling the z plane."
   ]
  },
  {
   "cell_type": "code",
   "execution_count": null,
   "metadata": {},
   "outputs": [],
   "source": [
    "from ipywidgets import *\n",
    "\n",
    "slider = widgets.IntSlider(value=1,min=1,max=25,step=1,description=\"Z\",disabled=False)\n",
    "\n",
    "def update(z):\n",
    "    if z < img.shape[0]:\n",
    "        plt.imshow(to_rgb(img[z-1,:,:,:]))\n",
    "        plt.axis('off')\n",
    "        plt.title(f\"Slice: {z}\")\n",
    "\n",
    "interact(update,z=slider);\n",
    "\n"
   ]
  },
  {
   "cell_type": "markdown",
   "metadata": {},
   "source": [
    "## Cropping\n"
   ]
  },
  {
   "cell_type": "code",
   "execution_count": null,
   "metadata": {},
   "outputs": [],
   "source": [
    "import tifffile\n",
    "import matplotlib.pyplot as plt\n",
    "\n",
    "img = tifffile.imread('../data/nuclei.tif')\n",
    "\n",
    "# To crop the image, we use the index of the rows and columns we want to extract \n",
    "# from the image using the syntax img[row1:row2,column1:column2]\n",
    "crop = img[0:200,0:500]\n",
    "plt.imshow(crop)\n",
    "plt.title('Cropped image')\n",
    "plt.axis('off')\n",
    "plt.show()"
   ]
  },
  {
   "cell_type": "markdown",
   "metadata": {},
   "source": [
    "## Histogram\n",
    "Histograms provide a quick insight on the distribion of the intensity in the image."
   ]
  },
  {
   "cell_type": "code",
   "execution_count": null,
   "metadata": {},
   "outputs": [],
   "source": [
    "import matplotlib.pyplot as plt\n",
    "from skimage.exposure import histogram\n",
    "\n",
    "filename = '../data/nuclei.tif'\n",
    "img = tifffile.imread(filename)\n",
    "hist, hist_centers  = histogram(img)\n",
    "\n",
    "fig, axes = plt.subplots(1, 2, figsize=(8, 3))\n",
    "axes[0].imshow(img, cmap=plt.cm.gray)\n",
    "axes[0].axis('off')\n",
    "axes[1].plot(hist_centers, hist, lw=2)\n",
    "axes[1].set_title('histogram of gray values')\n",
    "fig.show()"
   ]
  },
  {
   "cell_type": "markdown",
   "metadata": {},
   "source": [
    "## 3D rendering of volumes\n",
    "Often images acquired in microsopcy are tri-dimensional and we need a way to visualize them in their original full dimensionnality."
   ]
  },
  {
   "cell_type": "markdown",
   "metadata": {},
   "source": [
    "### Using ipyvolume (deprecated section)\n",
    "We can use ipyvolume to render interactively images in a notebook. This will run only in a browser. We install ipyvolume in conda using: \n",
    "```conda install -c conda-forge ipyvolume```"
   ]
  },
  {
   "cell_type": "code",
   "execution_count": 10,
   "metadata": {},
   "outputs": [
    {
     "ename": "ModuleNotFoundError",
     "evalue": "No module named 'ipyvolume'",
     "output_type": "error",
     "traceback": [
      "\u001b[0;31m---------------------------------------------------------------------------\u001b[0m",
      "\u001b[0;31mModuleNotFoundError\u001b[0m                       Traceback (most recent call last)",
      "\u001b[0;32m<ipython-input-10-5a945a2633f2>\u001b[0m in \u001b[0;36m<module>\u001b[0;34m\u001b[0m\n\u001b[0;32m----> 1\u001b[0;31m \u001b[0;32mimport\u001b[0m \u001b[0mipyvolume\u001b[0m \u001b[0;32mas\u001b[0m \u001b[0mipv\u001b[0m\u001b[0;34m\u001b[0m\u001b[0;34m\u001b[0m\u001b[0m\n\u001b[0m\u001b[1;32m      2\u001b[0m \u001b[0;32mimport\u001b[0m \u001b[0mtifffile\u001b[0m\u001b[0;34m\u001b[0m\u001b[0;34m\u001b[0m\u001b[0m\n\u001b[1;32m      3\u001b[0m \u001b[0;31m# Load a 3D image\u001b[0m\u001b[0;34m\u001b[0m\u001b[0;34m\u001b[0m\u001b[0;34m\u001b[0m\u001b[0m\n\u001b[1;32m      4\u001b[0m \u001b[0mfilename\u001b[0m \u001b[0;34m=\u001b[0m \u001b[0;34m'../data/example.tif'\u001b[0m\u001b[0;34m\u001b[0m\u001b[0;34m\u001b[0m\u001b[0m\n\u001b[1;32m      5\u001b[0m \u001b[0mimg\u001b[0m \u001b[0;34m=\u001b[0m \u001b[0mtifffile\u001b[0m\u001b[0;34m.\u001b[0m\u001b[0mimread\u001b[0m\u001b[0;34m(\u001b[0m\u001b[0mfilename\u001b[0m\u001b[0;34m)\u001b[0m\u001b[0;34m\u001b[0m\u001b[0;34m\u001b[0m\u001b[0m\n",
      "\u001b[0;31mModuleNotFoundError\u001b[0m: No module named 'ipyvolume'"
     ]
    }
   ],
   "source": [
    "import ipyvolume as ipv\n",
    "import tifffile\n",
    "# Load a 3D image\n",
    "filename = '../data/example.tif'\n",
    "img = tifffile.imread(filename)\n",
    "# render it in 3D\n",
    "ipv.figure()\n",
    "ipv.volshow(img[:,1,:,:])"
   ]
  },
  {
   "cell_type": "markdown",
   "metadata": {},
   "source": [
    "### Using napari\n",
    "\n",
    "Napari is a visualization program designed for browsing, annotating, and analyzing large multi-dimensional images.\n",
    "```conda install -c conda-forge napari ``` (you may need to select a specific version of networkx ```conda install -c conda-forge networkx=2.5```).\n",
    "\n",
    "\n",
    "We first visualize our volume with its 2 channels:"
   ]
  },
  {
   "cell_type": "code",
   "execution_count": 6,
   "metadata": {},
   "outputs": [
    {
     "name": "stderr",
     "output_type": "stream",
     "text": [
      "/home/jeromeb/miniconda3/envs/imaging/lib/python3.9/site-packages/napari/_vispy/vispy_camera.py:109: RuntimeWarning: divide by zero encountered in true_divide\n",
      "  zoom = np.min(canvas_size / scale)\n"
     ]
    }
   ],
   "source": [
    "import tifffile\n",
    "import napari\n",
    "\n",
    "# Load a 3D image\n",
    "filename = '../data/example.tif'\n",
    "img = tifffile.imread(filename)\n",
    "\n",
    "# Create a Viewer and add an image here with the two channels and scaling\n",
    "viewer = napari.view_image(img, channel_axis=1, name=['dapi', 'fitc'], scale=[10,1,1])"
   ]
  },
  {
   "cell_type": "markdown",
   "metadata": {},
   "source": [
    "Let's add an iso-surface. We first smooth the surface using a Gaussian filter and then compute a triangulation of the isosurface using the marching cubes algorithm."
   ]
  },
  {
   "cell_type": "code",
   "execution_count": 9,
   "metadata": {},
   "outputs": [
    {
     "name": "stderr",
     "output_type": "stream",
     "text": [
      "<ipython-input-9-88b35e0aaf32>:13: FutureWarning: marching_cubes_lewiner is deprecated in favor of marching_cubes. marching_cubes_lewiner will be removed in version 0.19\n",
      "  verts, faces, normals, values = measure.marching_cubes_lewiner(vol, iso_val)\n",
      "/home/jeromeb/miniconda3/envs/imaging/lib/python3.9/site-packages/napari/_vispy/vispy_camera.py:109: RuntimeWarning: divide by zero encountered in true_divide\n",
      "  zoom = np.min(canvas_size / scale)\n",
      "/home/jeromeb/miniconda3/envs/imaging/lib/python3.9/site-packages/napari/_vispy/vispy_surface_layer.py:91: UserWarning: Alternative shading modes are only available in 3D, defaulting to none\n",
      "  warnings.warn(\n"
     ]
    },
    {
     "data": {
      "text/plain": [
       "<Surface layer 'surface' at 0x7fd35fb86490>"
      ]
     },
     "execution_count": 9,
     "metadata": {},
     "output_type": "execute_result"
    }
   ],
   "source": [
    "import numpy as np\n",
    "from skimage import measure\n",
    "from skimage import filters\n",
    "from mpl_toolkits.mplot3d import Axes3D\n",
    "from mpl_toolkits.mplot3d.art3d import Poly3DCollection\n",
    "\n",
    "iso_val = 64 # iso value / threshold\n",
    "\n",
    "# prefilter the image to produce a smoother surface\n",
    "vol = filters.gaussian(np.squeeze(img[:,1,:,:]),2,preserve_range=True)\n",
    "\n",
    "# Create a surface at an isovalue (or threshold) using the marching cube algorithm\n",
    "verts, faces, normals, values = measure.marching_cubes_lewiner(vol, iso_val)\n",
    "\n",
    "# The surface is defined by a set of vertices (x,y,z coordinates) and the list faces (triplet of vertices indices). We optionally here have a values array\n",
    "surface = (verts, faces, values)\n",
    "\n",
    "# create a Viewer and add an image here with the two channels and scaling\n",
    "viewer = napari.view_image(img, channel_axis=1, name=['dapi', 'fitc'], scale=[10,1,1])\n",
    "viewer.add_surface(surface,colormap='jet',scale=[10,1,1])"
   ]
  },
  {
   "cell_type": "markdown",
   "metadata": {},
   "source": [
    "Napari can load chunks of image from a zarr file store in order to enable the visualization of large data sets (for example a few ~TB). Let's use the file created in the first example."
   ]
  },
  {
   "cell_type": "code",
   "execution_count": null,
   "metadata": {},
   "outputs": [],
   "source": [
    "# import the zarr module\n",
    "import zarr\n",
    "\n",
    "# Open a zarr file\n",
    "z = zarr.open('../scratch/tmp.zarr', mode='r')\n",
    "\n",
    "# Display the file as if it was the original numpy image:\n",
    "viewer = napari.view_image(z, channel_axis=1, name=['dapi', 'fitc'], scale=[10,1,1])\n"
   ]
  }
 ],
 "metadata": {
  "interpreter": {
   "hash": "f6cb53e4cae58c19d01a25dc0dace12f397db98da729074f7b2c82d85c25fd9c"
  },
  "kernelspec": {
   "display_name": "cimaging",
   "language": "python",
   "name": "imaging"
  },
  "language_info": {
   "codemirror_mode": {
    "name": "ipython",
    "version": 3
   },
   "file_extension": ".py",
   "mimetype": "text/x-python",
   "name": "python",
   "nbconvert_exporter": "python",
   "pygments_lexer": "ipython3",
   "version": "3.9.5"
  },
  "name": "example2-visualization.ipynb"
 },
 "nbformat": 4,
 "nbformat_minor": 2
}
