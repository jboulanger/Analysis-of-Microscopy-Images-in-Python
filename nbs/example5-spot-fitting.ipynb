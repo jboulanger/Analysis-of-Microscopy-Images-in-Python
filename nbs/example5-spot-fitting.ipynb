{
 "cells": [
  {
   "cell_type": "code",
   "execution_count": 1,
   "metadata": {
    "collapsed": false
   },
   "outputs": [],
   "source": [
    "import numpy as np\n",
    "import matplotlib.pyplot as plt\n",
    "from scipy.optimize import curve_fit\n",
    "import math"
   ]
  },
  {
   "cell_type": "code",
   "execution_count": 4,
   "metadata": {
    "collapsed": false
   },
   "outputs": [
    {
     "name": "stdout",
     "output_type": "stream",
     "text": [
      "The spot is centered in -0.0189,-0.0101 at +/- 0.0164,0.0164 s.d.\n"
     ]
    },
    {
     "data": {
      "image/png": "[encoded data removed]",
      "text/plain": [
       "<Figure size 720x360 with 2 Axes>"
      ]
     },
     "metadata": {
      "needs_background": "light"
     },
     "output_type": "display_data"
    }
   ],
   "source": [
    "# we define fisrt the Gaussian function we want to fit\n",
    "# it has to have the form model(x,a,b,c,d,..) where \n",
    "# xdata are the coordinates and a,b,c,d are the parameters\n",
    "def model(xdata, xc, yc):\n",
    "    x,y = xdata\n",
    "    im = np.exp(-0.5*((x-xc)**2+(y-yc)**2))\n",
    "    return im\n",
    "\n",
    "n = 32\n",
    "\n",
    "# let's define a 2D grid on which to evaluate the model \n",
    "xi, yi = np.linspace(-n/2,n/2,n), np.linspace(-n/2,n/2,n)\n",
    "x,y = np.meshgrid(xi,yi)\n",
    "\n",
    "# we stacks the two flatten array in a single array \n",
    "xdata = np.vstack((x.ravel(), y.ravel()))\n",
    "# we now generate the image\n",
    "p0 = np.array([0,0])\n",
    "ydata = model(xdata, p0[0], p0[1]) + 0.02 * np.random.randn(n*n)\n",
    "\n",
    "# let's display the simulated Gaussian spot\n",
    "#plt.imshow(ydata.reshape(n,n))\n",
    "\n",
    "# We can now fit the spot using a non-linear curve fitting procedure\n",
    "popt, pcov = curve_fit(model, xdata, ydata.ravel(), p0)\n",
    "\n",
    "# and display the estimated model:\n",
    "#plt.imshow(model(xdata,popt[0],popt[1]).reshape(n,n))\n",
    "fig, ax = plt.subplots(ncols=2, figsize=(10, 5))\n",
    "ax[0].imshow(ydata.reshape(n,n))\n",
    "ax[1].imshow(model(xdata,popt[0],popt[1]).reshape(n,n))\n",
    "\n",
    "# and the 2 parameters and their accuracy\n",
    "print(f'The spot is centered in {popt[0]:.4f},{popt[1]:.4f} at +/- {math.sqrt(pcov[0,0]):.4f},{math.sqrt(pcov[1,1]):.4f} s.d.')\n",
    "\n"
   ]
  }
 ],
 "metadata": {
  "interpreter": {
   "hash": "af652b78da32f40db052c887d212218f2b9dfc5bd9e07e878617985773e27cfb"
  },
  "kernelspec": {
   "display_name": "cimaging",
   "language": "python",
   "name": "python3"
  },
  "language_info": {
   "codemirror_mode": {
    "name": "ipython",
    "version": 3
   },
   "file_extension": ".py",
   "mimetype": "text/x-python",
   "name": "python",
   "nbconvert_exporter": "python",
   "pygments_lexer": "ipython3",
   "version": "3.9.5"
  },
  "name": "example5-spot-fitting.ipynb"
 },
 "nbformat": 4,
 "nbformat_minor": 2
}
