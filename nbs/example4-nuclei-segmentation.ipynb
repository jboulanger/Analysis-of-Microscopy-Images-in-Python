{
 "cells": [
  {
   "cell_type": "markdown",
   "metadata": {
    "collapsed": false
   },
   "source": [
    "# Nuclei segmentation"
   ]
  },
  {
   "cell_type": "code",
   "execution_count": null,
   "metadata": {
    "collapsed": false
   },
   "outputs": [],
   "source": [
    "import tifffile\n",
    "import matplotlib.pyplot as plt\n",
    "\n",
    "# We start loading the image\n",
    "img = tifffile.imread('../data/nuclei.tif')\n",
    "img = img[0:511,0:511]\n",
    "\n",
    "# Let's display the image that we just loaded\n",
    "plt.imshow(img, cmap='gray')\n",
    "plt.axis('off')\n",
    "plt.title('nuclei')\n",
    "plt.show()"
   ]
  },
  {
   "cell_type": "markdown",
   "metadata": {
    "collapsed": false
   },
   "source": [
    "## Instance segmentation\n",
    "We are going to classify pixel as belonging to the nuclei or the image background. We'll use a two step approach based on a first computing a simple feature from the image: the median value of the pixel in each neighborhood. \n",
    "\n",
    "Let's compute first, apply a median filter:"
   ]
  },
  {
   "cell_type": "code",
   "execution_count": null,
   "metadata": {
    "collapsed": false
   },
   "outputs": [],
   "source": [
    "import numpy as np\n",
    "from scipy import ndimage, misc\n",
    "\n",
    "# Apply a median filter to the image\n",
    "filtered = ndimage.median_filter(img, size=5)"
   ]
  },
  {
   "cell_type": "markdown",
   "metadata": {
    "collapsed": false
   },
   "source": [
    "We now threshold the image:"
   ]
  },
  {
   "cell_type": "code",
   "execution_count": null,
   "metadata": {
    "collapsed": false
   },
   "outputs": [],
   "source": [
    "from skimage.filters import threshold_otsu\n",
    "from skimage import morphology \n",
    "from scipy import ndimage\n",
    "from skimage.exposure import histogram\n",
    "\n",
    "def threshold_sigma(img, pfa):\n",
    "    ''' compute a threshold based on the background of the image '''\n",
    "    import scipy.stats\n",
    "    img = np.sqrt(img)\n",
    "    m0 = np.median(img)\n",
    "    s0 = 1.48 * np.median(np.abs(img - m0))\n",
    "    return pow(m0 + scipy.stats.norm.ppf(1-pfa) * s0, 2.0)\n",
    "\n",
    "# Let's use the function we defined to estimate a threshold:\n",
    "threshold = threshold_sigma(filtered, 0.001)\n",
    "\n",
    "# Alternatively, we can use the Otsu threshold:\n",
    "#threshold = threshold_otsu(filtered)\n",
    "\n",
    "# Threshold the image\n",
    "mask = filtered > threshold\n",
    "\n",
    "# Fill holes in the mask\n",
    "mask = ndimage.binary_fill_holes(mask).astype(int)\n",
    "\n",
    "for i in np.arange(10):\n",
    "    mask = morphology.dilation(mask)\n",
    "    mask = morphology.erosion(mask)\n",
    "    mask = ndimage.median_filter(mask, size=5)\n",
    "\n",
    "# Display the mask\n",
    "fig, ax = plt.subplots(ncols=3, figsize=(20, 5))\n",
    "\n",
    "ax[0].imshow(filtered, cmap=plt.cm.gray)\n",
    "ax[0].set_title('Original')\n",
    "ax[0].axis('off')\n",
    "\n",
    "hist, hist_centers = histogram(filtered)\n",
    "ax[1].loglog(hist_centers, hist, lw=2)\n",
    "ax[1].set_title('Histogram')\n",
    "ax[1].axvline((threshold), color='r')\n",
    "ax[1].set_position([0.4,0.2,0.25,0.6])\n",
    "\n",
    "ax[2].imshow(mask, cmap=plt.cm.gray)\n",
    "ax[2].set_title('Thresholded')\n",
    "ax[2].axis('off')\n",
    "fig.show()\n"
   ]
  },
  {
   "cell_type": "markdown",
   "metadata": {
    "collapsed": false
   },
   "source": [
    "## Instance segmentation\n",
    "We want now to separate individual objects and assign a label (a number) to each pixel of each object. Let's separate touching object using a watershed applied to the distance function and using seeds as local maxima of the distance function."
   ]
  },
  {
   "cell_type": "code",
   "execution_count": null,
   "metadata": {
    "collapsed": false
   },
   "outputs": [],
   "source": [
    "import numpy as np\n",
    "import matplotlib.pyplot as plt\n",
    "from scipy import ndimage as ndi\n",
    "from skimage.segmentation import watershed\n",
    "from skimage.feature import peak_local_max\n",
    "from skimage import measure\n",
    "from timeit import default_timer as timer\n",
    "\n",
    "tic = timer()\n",
    "\n",
    "# Compute the distance where mask is True to the closest point where it is False\n",
    "distance = ndi.distance_transform_edt(mask)\n",
    "\n",
    "# Extract local maxima from the distance\n",
    "coords = peak_local_max(distance, min_distance=5)\n",
    "peak = np.zeros(distance.shape, dtype=bool)\n",
    "peak[tuple(coords.T)] = True\n",
    "peak = np.logical_and(peak, mask)\n",
    "\n",
    "# Define markers by finding connected component in the image\n",
    "markers = measure.label(peak, background=0)\n",
    "\n",
    "# Use the watershed with the distance function as priority map \n",
    "# and markers as seeds.\n",
    "labels = watershed(-distance, markers, mask=mask)\n",
    "\n",
    "# We can now display the 3 steps used to process the image\n",
    "fig, ax = plt.subplots(1, 3,figsize=(20,5))\n",
    "ax[0].imshow(distance,cmap='gray')\n",
    "ax[0].set_title('Distance')\n",
    "\n",
    "ax[1].imshow(img,cmap='gray')\n",
    "ax[1].plot(coords[:,1], coords[:,0], '.', markersize=10, color='yellow')\n",
    "ax[1].set_title('Local maxima')\n",
    "\n",
    "ax[2].imshow(labels,cmap='gray')\n",
    "ax[2].set_title('Segmented image')\n",
    "for a in ax:\n",
    "    a.set_axis_off()\n",
    "fig.tight_layout()\n",
    "\n",
    "# Display elapsed time for this step\n",
    "etime = timer() - tic\n",
    "print(f\"Elapsed time: {etime:.2f} s\")\n"
   ]
  },
  {
   "cell_type": "markdown",
   "metadata": {
    "collapsed": false
   },
   "source": [
    "We can also compute the contours "
   ]
  },
  {
   "cell_type": "code",
   "execution_count": null,
   "metadata": {
    "collapsed": false
   },
   "outputs": [],
   "source": [
    "def find_label_contours(labels):\n",
    "    nlevels = np.max(labels)\n",
    "    contours = list()\n",
    "    for level in np.arange(1, nlevels) :\n",
    "        c = measure.find_contours(labels == level)\n",
    "        contours.append(c[0])\n",
    "    return contours\n",
    "\n",
    "contours = find_label_contours(labels)\n",
    "\n",
    "fig, ax = plt.subplots(figsize=(10,10))\n",
    "ax.imshow(img, cmap=plt.cm.gray)\n",
    "\n",
    "for contour in contours:\n",
    "    ax.plot(contour[:, 1], contour[:, 0], linewidth=2)\n",
    "\n",
    "ax.axis('image')\n",
    "ax.set_axis_off()\n",
    "plt.show()"
   ]
  },
  {
   "cell_type": "markdown",
   "metadata": {
    "collapsed": false
   },
   "source": [
    "Let's display now some information on the labelled regions. We can use a pandas frame to manipulate the result."
   ]
  },
  {
   "cell_type": "code",
   "execution_count": null,
   "metadata": {
    "collapsed": false
   },
   "outputs": [],
   "source": [
    "import pandas as pd\n",
    "import math \n",
    "props = measure.regionprops_table(labels, img, properties=('area', 'mean_intensity','eccentricity','major_axis_length','perimeter','max_intensity'))\n",
    "df = pd.DataFrame(props)\n",
    "\n",
    "#  Let's add a circularity column\n",
    "df['circularity'] = 4 * math.pi * df['area'] / pow(df['perimeter'],2)\n",
    "\n",
    "# Let's save thetable into a csv file\n",
    "df.to_csv('../scratch/results.csv')\n",
    "\n",
    "# We can inspect the first lines of the table\n",
    "df.head()\n"
   ]
  },
  {
   "cell_type": "markdown",
   "metadata": {
    "collapsed": false
   },
   "source": [
    "We can plot the features in a scatter plot and try to define a rule to classify the nuclei according to those features:"
   ]
  },
  {
   "cell_type": "code",
   "execution_count": null,
   "metadata": {
    "collapsed": false,
    "tags": null
   },
   "outputs": [],
   "source": [
    "from matplotlib import cm\n",
    "\n",
    "def show_classification(df,contours,img,f1,f2,C):\n",
    "    cmap = cm.get_cmap('viridis',np.max(C)+1)\n",
    "    fig, ax = plt.subplots(1,2,figsize=(10,5))\n",
    "    ax[0].scatter(df[f1], df[f2], s=2, c=C,cmap=cmap)\n",
    "    ax[0].set_xlabel(f1)\n",
    "    ax[0].set_ylabel(f2)\n",
    "    ax[0].set_position([0.1,0.3,0.4,0.4])\n",
    "    ax[0].set_title('Nuclei features')\n",
    "    ax[1].imshow(img, cmap=plt.cm.gray)\n",
    "    colors = cmap.colors\n",
    "    for k,contour in enumerate(contours):\n",
    "        ax[1].plot(contour[:, 1], contour[:, 0], linewidth=1, color=colors[C[k]])\n",
    "    ax[1].set_axis_off()\n",
    "    fig.show()"
   ]
  },
  {
   "cell_type": "code",
   "execution_count": null,
   "metadata": {
    "collapsed": false
   },
   "outputs": [],
   "source": [
    "# Let's pick two features\n",
    "f1 = 'area'\n",
    "f2 = 'max_intensity'\n",
    "\n",
    "# We can define a rule as convert the logical value to an integer\n",
    "C = np.array(df[f1] + 3*df[f2] > 700, dtype=int)\n",
    "C = np.array(df[f1] < 400, dtype=int)\n",
    "\n",
    "show_classification(df,contours,img,f1,f2,C)"
   ]
  },
  {
   "cell_type": "markdown",
   "metadata": {
    "collapsed": false
   },
   "source": [
    "We can try to group the features in clusters using scikit-learn. If not installed, type  ```conda install -c conda-forge scikit-learn``` in the miniconda console."
   ]
  },
  {
   "cell_type": "code",
   "execution_count": null,
   "metadata": {
    "collapsed": false
   },
   "outputs": [],
   "source": [
    "from sklearn.cluster import KMeans\n",
    "from sklearn.decomposition import PCA\n",
    "\n",
    "# Convert the features to a matrix\n",
    "X = df.to_numpy()\n",
    "\n",
    "# Reduce the dimensions of the dataset\n",
    "pca = PCA(n_components=3)\n",
    "Y = pca.fit_transform(X)\n",
    "df2 = pd.DataFrame(data = Y, columns=['feat1','feat2','feat3'])\n",
    "\n",
    "# Use a KMeans clustering to group nuclei according to their features\n",
    "km = KMeans(n_clusters=5)\n",
    "km.fit(Y)\n",
    "show_classification(df2,contours,img,'feat1','feat2',km.labels_)\n"
   ]
  },
  {
   "cell_type": "markdown",
   "metadata": {
    "collapsed": false
   },
   "source": [
    "We can create a partition of the image using the nuclei as seeds. This can be usefull to get features within cells in other channels for example. Here we don't have a label for membrane which could be used to better define the regions within the cells."
   ]
  },
  {
   "cell_type": "code",
   "execution_count": null,
   "metadata": {
    "collapsed": false
   },
   "outputs": [],
   "source": [
    "# we first compute the distance map using the negative of the mask of all cells\n",
    "distance = ndi.distance_transform_edt(1-mask)\n",
    "\n",
    "# and use then this distance and the cell marker previously defined for the nuclei\n",
    "labels = watershed(distance, markers)\n",
    "\n",
    "# We reuse the function we have defined eariler to get the contours\n",
    "cells = find_label_contours(labels)\n",
    "\n",
    "# We can display all the contours for inspection:\n",
    "fig, ax = plt.subplots()\n",
    "ax.imshow(img, cmap=plt.cm.gray)\n",
    "for contour in cells:\n",
    "    ax.plot(contour[:, 1], contour[:, 0], linewidth=1, color='red')\n",
    "ax.axis('image')\n",
    "ax.set_axis_off()\n",
    "plt.show()"
   ]
  }
 ],
 "metadata": {
  "kernelspec": {
   "argv": [
    "/home/jeromeb/miniconda3/envs/imaging/bin/python",
    "-m",
    "ipykernel_launcher",
    "-f",
    "{connection_file}"
   ],
   "display_name": "cimaging",
   "env": null,
   "interrupt_mode": "signal",
   "language": "python",
   "metadata": null,
   "name": "imaging"
  },
  "language_info": {
   "codemirror_mode": {
    "name": "ipython",
    "version": 3
   },
   "file_extension": ".py",
   "mimetype": "text/x-python",
   "name": "python",
   "nbconvert_exporter": "python",
   "pygments_lexer": "ipython3",
   "version": "3.8.5-final"
  },
  "name": "example4-nuclei-segmentation.ipynb"
 },
 "nbformat": 4,
 "nbformat_minor": 2
}
