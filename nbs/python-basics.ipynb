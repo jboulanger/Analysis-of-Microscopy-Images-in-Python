{
 "cells": [
  {
   "cell_type": "markdown",
   "metadata": {},
   "source": [
    "# Python basics\n",
    "\n",
    "- In python each line is an instruction that will be interpreted\n",
    "- There is no compilation (or check) before the program starts\n",
    "- Instruction can also be separaeted by semi-colon (;)\n",
    "- Line starting with # will be ignored, multiline string can also be used to comment\n",
    "the code\n",
    "- Python code can be run \n",
    "    - in a script using the command ```python script_name.py```\n",
    "    - in a REPL, type ```python``` in a terminal to start the interpreter\n",
    "    - in a jupyter notebook, where blocks of code are interpreted one by one\n"
   ]
  },
  {
   "cell_type": "markdown",
   "metadata": {},
   "source": [
    "## Basic data types\n",
    "There are a few basic data types to represent numbers, bit of text and logical values.\n",
    "In python everything is an object that can have attributes (data) and methods \n",
    "(action on the data).\n"
   ]
  },
  {
   "cell_type": "markdown",
   "metadata": {},
   "source": [
    "### Numbers\n",
    "Numbers can be represented as integers ('int'), real number ('float') or complex number ('complex'). "
   ]
  },
  {
   "cell_type": "code",
   "execution_count": 18,
   "metadata": {},
   "outputs": [
    {
     "name": "stdout",
     "output_type": "stream",
     "text": [
      "1\n",
      "<class 'int'>\n",
      "1.0\n",
      "<class 'float'>\n",
      "(1+1j)\n",
      "<class 'complex'>\n"
     ]
    }
   ],
   "source": [
    "print(1)\n",
    "print(type(1))\n",
    "print(1.)\n",
    "print(type(1.))\n",
    "print(1+1j)\n",
    "print(type(1+1j))"
   ]
  },
  {
   "cell_type": "markdown",
   "metadata": {},
   "source": [
    "### Strings \n",
    "Strings represent sequence of characters such as bloc of text. There are delimited by single, double or triple quotes. Triple quotes enable to split long text in multiple lines or are used to create documentation."
   ]
  },
  {
   "cell_type": "code",
   "execution_count": 42,
   "metadata": {},
   "outputs": [
    {
     "name": "stdout",
     "output_type": "stream",
     "text": [
      "This is a string\n",
      "<class 'str'>\n",
      "Lorem ipsum dolor sit amet, consectetur adipiscing elit. Sed non nibh ut lacus \n",
      "dapibus efficitur. Sed ut metus efficitur, pharetra enim ac, commodo elit. Orci \n",
      "varius natoque penatibus et magnis dis parturient montes, nascetur ridiculus mus.\n"
     ]
    }
   ],
   "source": [
    "print(\"This is a string\")\n",
    "print(type(\"This is a string\"))\n",
    "print(\"\"\"Lorem ipsum dolor sit amet, consectetur adipiscing elit. Sed non nibh ut lacus \n",
    "dapibus efficitur. Sed ut metus efficitur, pharetra enim ac, commodo elit. Orci \n",
    "varius natoque penatibus et magnis dis parturient montes, nascetur ridiculus mus.\"\"\")"
   ]
  },
  {
   "cell_type": "markdown",
   "metadata": {},
   "source": [
    "The type ```str``` have a few methods associated to it. They are accessible with\n",
    "the ```.``` symbol. Some will modify the string in place while other will return \n",
    "a new object."
   ]
  },
  {
   "cell_type": "code",
   "execution_count": 55,
   "metadata": {},
   "outputs": [
    {
     "name": "stdout",
     "output_type": "stream",
     "text": [
      "['hello', 'world.']\n",
      "Hello world.\n"
     ]
    }
   ],
   "source": [
    "mytext = \"hello world.\"\n",
    "# split the string using the space as separator\n",
    "print(mytext.split(\" \"))\n",
    "# capitalize the first word\n",
    "print(mytext.capitalize())"
   ]
  },
  {
   "cell_type": "markdown",
   "metadata": {},
   "source": [
    "### Boolean and logical values\n",
    "Boolean can take 2 values ```True``` or ```False```"
   ]
  },
  {
   "cell_type": "code",
   "execution_count": 19,
   "metadata": {},
   "outputs": [
    {
     "name": "stdout",
     "output_type": "stream",
     "text": [
      "True\n",
      "<class 'bool'>\n"
     ]
    }
   ],
   "source": [
    "print(True)\n",
    "print(type(True))"
   ]
  },
  {
   "cell_type": "markdown",
   "metadata": {},
   "source": [
    "### None type\n",
    "```None``` is a keyword that represent null or no value at all. It has it \n",
    "specific type ```NoneType```. This is useful for testing the existence of an \n",
    "optional value for example.\n"
   ]
  },
  {
   "cell_type": "code",
   "execution_count": 23,
   "metadata": {},
   "outputs": [
    {
     "name": "stdout",
     "output_type": "stream",
     "text": [
      "None\n",
      "<class 'NoneType'>\n"
     ]
    }
   ],
   "source": [
    "print(None)\n",
    "print(type(None))"
   ]
  },
  {
   "cell_type": "markdown",
   "metadata": {},
   "source": [
    "## Variables\n",
    "Variables is a symbol storing a value. The type of the variable are \n",
    "dynamically assigned and can change during the program. "
   ]
  },
  {
   "cell_type": "code",
   "execution_count": 43,
   "metadata": {},
   "outputs": [],
   "source": [
    "x = 1\n",
    "# now we change the content of x to a string type\n",
    "x = \"this is a bit of text\""
   ]
  },
  {
   "cell_type": "markdown",
   "metadata": {},
   "source": [
    "## Operators\n",
    "Operator represent actions on the basic types such as addition, multiplications\n",
    "etc.."
   ]
  },
  {
   "cell_type": "code",
   "execution_count": 44,
   "metadata": {},
   "outputs": [
    {
     "name": "stdout",
     "output_type": "stream",
     "text": [
      "2\n",
      "2.0\n",
      "0.5\n",
      "Hello you\n"
     ]
    }
   ],
   "source": [
    "print(1+1)\n",
    "print(1+1.)\n",
    "print(1/2)\n",
    "print(\"Hello \" + \"you\")"
   ]
  },
  {
   "cell_type": "markdown",
   "metadata": {},
   "source": [
    "## Collections\n",
    "There are a few composed type that are useful to represent collection of variable,\n",
    "such as list, dictionnary, tuples and sets\n",
    "\n",
    "- list are indexed, they are created with square brakets\n",
    "- tuple are similar to list, they create with round brakets and the content cannot be changes\n",
    "- set are unordered and not indexed, created with curly brakets\n",
    "- dictionaries are maping keys to values\n",
    "\n",
    "| type  | indexed | mutable | creation | duplicates |   \n",
    "| ----  | --------| --------|----------| -----------|\n",
    "| list  | yes     | yes     |  [,,]    | yes        |\n",
    "| tuple | yes     | no      |  (,,)    | yes        |\n",
    "| set   | no      | no      |  {,,}    | no         |\n",
    "| dict  | yes     | yes     |  {\"key\":value,..}| no |\n",
    "\n",
    "When an object is mutable, assigning a new value will not create a new object.\n"
   ]
  },
  {
   "cell_type": "code",
   "execution_count": 17,
   "metadata": {},
   "outputs": [
    {
     "name": "stdout",
     "output_type": "stream",
     "text": [
      " x: [1, 'sd'] id :139914534975104\n",
      " x: [1, 5] id :139914534975104 (the id is not changed)\n",
      "orange\t: 1\n",
      "apple\t: 2\n"
     ]
    }
   ],
   "source": [
    "x = [1,\"sd\"] # a list can hold different types as the same time\n",
    "print(f' x: {x} id :{id(x)}')\n",
    "x[1] = 5   # the list is mutable\n",
    "print(f' x: {x} id :{id(x)} (the id is not changed)')\n",
    "\n",
    "y = {\"orange\":1,\"apple\":2}\n",
    "for key,value  in y.items():\n",
    "    print(f'{key}\\t: {value}')"
   ]
  },
  {
   "cell_type": "markdown",
   "metadata": {},
   "source": [
    "### References to a mutable object with multiple variables\n",
    "It is possible to have two variables referencing the same object (with the same id).\n",
    "If the object is mutable and modified, this impact the all the variables pointing\n",
    "to this object."
   ]
  },
  {
   "cell_type": "code",
   "execution_count": 3,
   "metadata": {},
   "outputs": [
    {
     "name": "stdout",
     "output_type": "stream",
     "text": [
      "x=[1, 2, 3] and y=[1, 2, 3]\n",
      "ID of x:139914534818944 ID of y:139914534818944\n",
      "x=[1, 0, 3] and y=[1, 0, 3]\n"
     ]
    }
   ],
   "source": [
    "x = [1,2,3] # create a variable referencing the mutable list [1,2,3]\n",
    "y = x       # create a second variable referencing the same object\n",
    "print(f'x={x} and y={y}')\n",
    "print(f'ID of x:{id(x)} ID of y:{id(y)}')\n",
    "y[1] = 0    # change the value of the object referenced by\n",
    "print(f'x={x} and y={y}')"
   ]
  },
  {
   "cell_type": "markdown",
   "metadata": {},
   "source": [
    "## Printing information\n",
    "The `print` functiona allow to display information as text in the notebook. This\n",
    "can be used for beginning etc.. The python object are converted to a string \n",
    "representation."
   ]
  },
  {
   "cell_type": "code",
   "execution_count": 22,
   "metadata": {},
   "outputs": [
    {
     "name": "stdout",
     "output_type": "stream",
     "text": [
      "There are 3 cells in the image.\n"
     ]
    }
   ],
   "source": [
    "print('There are',3,'cells in the image.')"
   ]
  },
  {
   "cell_type": "markdown",
   "metadata": {},
   "source": [
    "A useful formating tool is to use f-strings."
   ]
  },
  {
   "cell_type": "code",
   "execution_count": 21,
   "metadata": {},
   "outputs": [
    {
     "name": "stdout",
     "output_type": "stream",
     "text": [
      "The ratio is 3.14.\n"
     ]
    }
   ],
   "source": [
    "x = 3.14159\n",
    "print(f'The ratio is {x:.2f}.') #only print the first 2 decimals"
   ]
  }
 ],
 "metadata": {
  "kernelspec": {
   "display_name": "Python 3.10.5 ('pylsdeconv')",
   "language": "python",
   "name": "python3"
  },
  "language_info": {
   "codemirror_mode": {
    "name": "ipython",
    "version": 3
   },
   "file_extension": ".py",
   "mimetype": "text/x-python",
   "name": "python",
   "nbconvert_exporter": "python",
   "pygments_lexer": "ipython3",
   "version": "3.10.5"
  },
  "orig_nbformat": 4,
  "vscode": {
   "interpreter": {
    "hash": "bf492d14644cf89f61b50ca29a21e9b507705f36a19f8342d8a104e3eb10ba59"
   }
  }
 },
 "nbformat": 4,
 "nbformat_minor": 2
}
