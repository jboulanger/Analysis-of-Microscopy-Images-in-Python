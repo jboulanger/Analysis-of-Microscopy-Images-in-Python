{
 "cells": [
  {
   "cell_type": "markdown",
   "metadata": {},
   "source": [
    "# Background correction\n",
    "\n",
    "The illumination in fluorescence imaging can be uneven due to for example \n",
    "the profile of the laser beam. Other source of background signal is the \n",
    "scattering of light which results in a sample dependant background.\n"
   ]
  },
  {
   "cell_type": "code",
   "execution_count": null,
   "metadata": {},
   "outputs": [],
   "source": []
  },
  {
   "cell_type": "code",
   "execution_count": 2,
   "metadata": {},
   "outputs": [
    {
     "ename": "FileNotFoundError",
     "evalue": "[Errno 2] No such file or directory: '/lmb/home/data/example.tif'",
     "output_type": "error",
     "traceback": [
      "\u001b[0;31m---------------------------------------------------------------------------\u001b[0m",
      "\u001b[0;31mFileNotFoundError\u001b[0m                         Traceback (most recent call last)",
      "Cell \u001b[0;32mIn[2], line 5\u001b[0m\n\u001b[1;32m      2\u001b[0m \u001b[39mimport\u001b[39;00m \u001b[39mnumpy\u001b[39;00m \u001b[39mas\u001b[39;00m \u001b[39mnp\u001b[39;00m\n\u001b[1;32m      4\u001b[0m filename \u001b[39m=\u001b[39m \u001b[39m'\u001b[39m\u001b[39m../data/example.tif\u001b[39m\u001b[39m'\u001b[39m\n\u001b[0;32m----> 5\u001b[0m img \u001b[39m=\u001b[39m tifffile\u001b[39m.\u001b[39;49mimread(filename)\n\u001b[1;32m      6\u001b[0m \u001b[39mprint\u001b[39m(\u001b[39m\"\u001b[39m\u001b[39mThe shape of the array is [depth x channels x height x width]\u001b[39m\u001b[39m\"\u001b[39m, img\u001b[39m.\u001b[39mshape)\n",
      "File \u001b[0;32m~/miniconda3/envs/imaging/lib/python3.9/site-packages/tifffile/tifffile.py:1040\u001b[0m, in \u001b[0;36mimread\u001b[0;34m(files, aszarr, key, series, level, squeeze, maxworkers, mode, name, offset, size, pattern, axesorder, categories, imread, sort, container, chunkshape, dtype, axestiled, ioworkers, chunkmode, fillvalue, zattrs, multiscales, omexml, out, out_inplace, _multifile, _useframes, **kwargs)\u001b[0m\n\u001b[1;32m   1035\u001b[0m     files \u001b[39m=\u001b[39m files[\u001b[39m0\u001b[39m]\n\u001b[1;32m   1037\u001b[0m \u001b[39mif\u001b[39;00m \u001b[39misinstance\u001b[39m(files, \u001b[39mstr\u001b[39m) \u001b[39mor\u001b[39;00m \u001b[39mnot\u001b[39;00m \u001b[39misinstance\u001b[39m(\n\u001b[1;32m   1038\u001b[0m     files, collections\u001b[39m.\u001b[39mabc\u001b[39m.\u001b[39mSequence\n\u001b[1;32m   1039\u001b[0m ):\n\u001b[0;32m-> 1040\u001b[0m     \u001b[39mwith\u001b[39;00m TiffFile(\n\u001b[1;32m   1041\u001b[0m         files,\n\u001b[1;32m   1042\u001b[0m         mode\u001b[39m=\u001b[39;49mmode,\n\u001b[1;32m   1043\u001b[0m         name\u001b[39m=\u001b[39;49mname,\n\u001b[1;32m   1044\u001b[0m         offset\u001b[39m=\u001b[39;49moffset,\n\u001b[1;32m   1045\u001b[0m         size\u001b[39m=\u001b[39;49msize,\n\u001b[1;32m   1046\u001b[0m         omexml\u001b[39m=\u001b[39;49momexml,\n\u001b[1;32m   1047\u001b[0m         _multifile\u001b[39m=\u001b[39;49m_multifile,\n\u001b[1;32m   1048\u001b[0m         _useframes\u001b[39m=\u001b[39;49m_useframes,\n\u001b[1;32m   1049\u001b[0m         \u001b[39m*\u001b[39;49m\u001b[39m*\u001b[39;49mis_flags,\n\u001b[1;32m   1050\u001b[0m     ) \u001b[39mas\u001b[39;00m tif:\n\u001b[1;32m   1051\u001b[0m         \u001b[39mif\u001b[39;00m aszarr:\n\u001b[1;32m   1052\u001b[0m             \u001b[39massert\u001b[39;00m key \u001b[39mis\u001b[39;00m \u001b[39mNone\u001b[39;00m \u001b[39mor\u001b[39;00m \u001b[39misinstance\u001b[39m(key, \u001b[39mint\u001b[39m)\n",
      "File \u001b[0;32m~/miniconda3/envs/imaging/lib/python3.9/site-packages/tifffile/tifffile.py:3933\u001b[0m, in \u001b[0;36mTiffFile.__init__\u001b[0;34m(self, file, mode, name, offset, size, omexml, _multifile, _useframes, _parent, **is_flags)\u001b[0m\n\u001b[1;32m   3930\u001b[0m \u001b[39mif\u001b[39;00m mode \u001b[39mnot\u001b[39;00m \u001b[39min\u001b[39;00m (\u001b[39mNone\u001b[39;00m, \u001b[39m'\u001b[39m\u001b[39mr\u001b[39m\u001b[39m'\u001b[39m, \u001b[39m'\u001b[39m\u001b[39mr+\u001b[39m\u001b[39m'\u001b[39m, \u001b[39m'\u001b[39m\u001b[39mrb\u001b[39m\u001b[39m'\u001b[39m, \u001b[39m'\u001b[39m\u001b[39mr+b\u001b[39m\u001b[39m'\u001b[39m):\n\u001b[1;32m   3931\u001b[0m     \u001b[39mraise\u001b[39;00m \u001b[39mValueError\u001b[39;00m(\u001b[39mf\u001b[39m\u001b[39m'\u001b[39m\u001b[39minvalid mode \u001b[39m\u001b[39m{\u001b[39;00mmode\u001b[39m!r}\u001b[39;00m\u001b[39m'\u001b[39m)\n\u001b[0;32m-> 3933\u001b[0m fh \u001b[39m=\u001b[39m FileHandle(file, mode\u001b[39m=\u001b[39;49mmode, name\u001b[39m=\u001b[39;49mname, offset\u001b[39m=\u001b[39;49moffset, size\u001b[39m=\u001b[39;49msize)\n\u001b[1;32m   3934\u001b[0m \u001b[39mself\u001b[39m\u001b[39m.\u001b[39m_fh \u001b[39m=\u001b[39m fh\n\u001b[1;32m   3935\u001b[0m \u001b[39mself\u001b[39m\u001b[39m.\u001b[39m_multifile \u001b[39m=\u001b[39m \u001b[39mTrue\u001b[39;00m \u001b[39mif\u001b[39;00m _multifile \u001b[39mis\u001b[39;00m \u001b[39mNone\u001b[39;00m \u001b[39melse\u001b[39;00m \u001b[39mbool\u001b[39m(_multifile)\n",
      "File \u001b[0;32m~/miniconda3/envs/imaging/lib/python3.9/site-packages/tifffile/tifffile.py:13635\u001b[0m, in \u001b[0;36mFileHandle.__init__\u001b[0;34m(self, file, mode, name, offset, size)\u001b[0m\n\u001b[1;32m  13633\u001b[0m \u001b[39mself\u001b[39m\u001b[39m.\u001b[39m_close \u001b[39m=\u001b[39m \u001b[39mTrue\u001b[39;00m\n\u001b[1;32m  13634\u001b[0m \u001b[39mself\u001b[39m\u001b[39m.\u001b[39m_lock \u001b[39m=\u001b[39m NullContext()\n\u001b[0;32m> 13635\u001b[0m \u001b[39mself\u001b[39;49m\u001b[39m.\u001b[39;49mopen()\n\u001b[1;32m  13636\u001b[0m \u001b[39massert\u001b[39;00m \u001b[39mself\u001b[39m\u001b[39m.\u001b[39m_fh \u001b[39mis\u001b[39;00m \u001b[39mnot\u001b[39;00m \u001b[39mNone\u001b[39;00m\n",
      "File \u001b[0;32m~/miniconda3/envs/imaging/lib/python3.9/site-packages/tifffile/tifffile.py:13650\u001b[0m, in \u001b[0;36mFileHandle.open\u001b[0;34m(self)\u001b[0m\n\u001b[1;32m  13648\u001b[0m \u001b[39mself\u001b[39m\u001b[39m.\u001b[39m_file \u001b[39m=\u001b[39m os\u001b[39m.\u001b[39mpath\u001b[39m.\u001b[39mrealpath(\u001b[39mself\u001b[39m\u001b[39m.\u001b[39m_file)\n\u001b[1;32m  13649\u001b[0m \u001b[39mself\u001b[39m\u001b[39m.\u001b[39m_dir, \u001b[39mself\u001b[39m\u001b[39m.\u001b[39m_name \u001b[39m=\u001b[39m os\u001b[39m.\u001b[39mpath\u001b[39m.\u001b[39msplit(\u001b[39mself\u001b[39m\u001b[39m.\u001b[39m_file)\n\u001b[0;32m> 13650\u001b[0m \u001b[39mself\u001b[39m\u001b[39m.\u001b[39m_fh \u001b[39m=\u001b[39m \u001b[39mopen\u001b[39;49m(\u001b[39mself\u001b[39;49m\u001b[39m.\u001b[39;49m_file, \u001b[39mself\u001b[39;49m\u001b[39m.\u001b[39;49m_mode)  \u001b[39m# type: ignore\u001b[39;00m\n\u001b[1;32m  13651\u001b[0m \u001b[39mself\u001b[39m\u001b[39m.\u001b[39m_close \u001b[39m=\u001b[39m \u001b[39mTrue\u001b[39;00m\n\u001b[1;32m  13652\u001b[0m \u001b[39mif\u001b[39;00m \u001b[39mself\u001b[39m\u001b[39m.\u001b[39m_offset \u001b[39m<\u001b[39m \u001b[39m0\u001b[39m:\n",
      "\u001b[0;31mFileNotFoundError\u001b[0m: [Errno 2] No such file or directory: '/lmb/home/data/example.tif'"
     ]
    }
   ],
   "source": [
    "import tifffile\n",
    "import numpy as np\n",
    "\n",
    "filename = '../data/example.tif'\n",
    "img = tifffile.imread(filename)\n",
    "print(\"The shape of the array is [depth x channels x height x width]\", img.shape)\n"
   ]
  },
  {
   "cell_type": "markdown",
   "metadata": {},
   "source": [
    "Let's apply a 3D gaussian filter to the image, channel by channel:"
   ]
  },
  {
   "cell_type": "code",
   "execution_count": null,
   "metadata": {},
   "outputs": [],
   "source": [
    "from skimage import filters\n",
    "import napari\n",
    "\n",
    "# Let's smooth each channels\n",
    "smoothed = np.ones(img.shape)\n",
    "for channel in range(img.shape[1]):\n",
    "    smoothed[:,channel,:,:] = filters.gaussian(np.squeeze(img[:,channel,:,:]), 10)\n",
    "\n",
    "# Let's visualize a single 2D plane\n",
    "plt.imshow(smoothed[10,0,:,:])\n",
    "\n",
    "# create a Viewer and add an image here with the two channels and scaling\n",
    "napari.view_image(smoothed, channel_axis=1, name=['dapi', 'fitc'], scale=[10,1,1])\n"
   ]
  },
  {
   "cell_type": "markdown",
   "metadata": {},
   "source": [
    "## Background substraction using the rolling ball algorithm\n",
    "The rolling ball algorithm was introduced in \n",
    "\n",
    "Sternberg S. Biomedical Image Processing, IEEE Computer 1983;16(1):22-34. (DOI:10.1109/MC.1983.1654163)\n",
    "\n",
    "This approach is not ideal for quantitative measurement of intensities but can \n",
    "help segment the image. \n",
    "\n",
    "We use here the implementation provided in the scikit-image package and the\n",
    " example is inspired from https://scikit-image.org/docs/stable/auto_examples/segmentation/plot_rolling_ball.html\n",
    "\n",
    "First, let's define first a function to help display the image, background and corrected image. The histogram on the right of the figure helps understand how background correction affect the distribution of intensities."
   ]
  },
  {
   "cell_type": "code",
   "execution_count": null,
   "metadata": {},
   "outputs": [],
   "source": [
    "import matplotlib.pyplot as plt\n",
    "from skimage.exposure import histogram\n",
    "import numpy as np\n",
    "\n",
    "def plt_bg_corr(im,bg,corrected):\n",
    "    ''' Display background correction results '''\n",
    "    fig, ax = plt.subplots(1, 4)\n",
    "    ax[0].imshow(im,cmap='gray')\n",
    "    ax[0].set_title('Image')\n",
    "    ax[0].set_axis_off()\n",
    "    ax[1].imshow(bg,cmap='gray')\n",
    "    ax[1].set_title('Background')\n",
    "    ax[1].set_axis_off()\n",
    "    ax[2].imshow(corrected,cmap='gray')\n",
    "    ax[2].set_title('Corrected')\n",
    "    ax[2].set_axis_off()\n",
    "    hist1, hist_centers1  = histogram(im)\n",
    "    ax[3].loglog(hist_centers1, hist1, lw=2, label='before')\n",
    "    hist2, hist_centers2  = histogram(corrected)\n",
    "    ax[3].loglog(hist_centers2, hist2, lw=2,label='after')\n",
    "    ax[3].set_title('Histogram')\n",
    "    ax[3].set_position([0.8, 0.4, 0.2, 0.25])\n",
    "    ax[3].legend()\n",
    "    ax[3].set_xlabel('intensity (log)')\n"
   ]
  },
  {
   "cell_type": "markdown",
   "metadata": {},
   "source": [
    "Let's load a test image too"
   ]
  },
  {
   "cell_type": "code",
   "execution_count": null,
   "metadata": {},
   "outputs": [],
   "source": [
    "from skimage import io\n",
    "import numpy as np\n",
    "im = io.imread('../data/nuclei.tif')\n",
    "im = im[0:500,0:500]\n",
    "N,M = im.shape\n",
    "Y,X = np.ix_(np.arange(N),np.arange(M))\n",
    "# We add a bias defined as X/5 and convert the elements of the array to 16 bit unsiged integers.\n",
    "im = np.asarray(im + X/5, dtype=np.uint16)\n",
    "plt.imshow(im)\n",
    "plt.axis('off')\n",
    "plt.show()"
   ]
  },
  {
   "cell_type": "markdown",
   "metadata": {},
   "source": [
    "Now we an apply a rolling ball filter to estimate the background:"
   ]
  },
  {
   "cell_type": "code",
   "execution_count": null,
   "metadata": {},
   "outputs": [],
   "source": [
    "from skimage import restoration\n",
    "from timeit import default_timer as timer\n",
    "\n",
    "tic = timer()\n",
    "\n",
    "# Apply a rolling ball to estimate a background image\n",
    "bg = restoration.rolling_ball(im, radius=60)\n",
    "\n",
    "# Substract the background to the image \n",
    "corrected = im - bg\n",
    "\n",
    "# Display the image, the estimated background and the corrected image\n",
    "plt_bg_corr(im,bg,corrected)\n",
    "\n",
    "# Display elapsed time for this step\n",
    "etime = timer() - tic\n",
    "print(f\"Elapsed time: {etime:.2f} s\")\n"
   ]
  },
  {
   "cell_type": "markdown",
   "metadata": {},
   "source": [
    "We might be unhappy with the results as the intensity and spatial dimension of the rolling ball are here linked. To decouple them, we can specify a kernel:"
   ]
  },
  {
   "cell_type": "code",
   "execution_count": null,
   "metadata": {},
   "outputs": [],
   "source": [
    "from skimage import restoration\n",
    "from timeit import default_timer as timer\n",
    "\n",
    "tic = timer()\n",
    "\n",
    "# define a kernel for the rolling ball with its shape and intensity\n",
    "kernel = restoration.ellipsoid_kernel((120,120),  10)\n",
    "\n",
    "# Apply a rolling ball to estimate a background image\n",
    "bg = restoration.rolling_ball(im, kernel=kernel)\n",
    "\n",
    "# Substract the background to the image \n",
    "corrected = im - bg\n",
    "\n",
    "# Display the image, the estimated background and the corrected image\n",
    "plt_bg_corr(im,bg,corrected)\n",
    "\n",
    "# Display elapsed time for this step\n",
    "etime = timer() - tic\n",
    "print(f\"Elapsed time: {etime:.2f} s\")"
   ]
  },
  {
   "cell_type": "markdown",
   "metadata": {},
   "source": [
    "## Background substraction using a top-hat\n",
    "The top-hat transform is defined as the difference between the image and it's morphological opening. The morphological opening of an image can be defined as a minimum filter or morphological erosion followed by a maximum filter or morphological dilation."
   ]
  },
  {
   "cell_type": "code",
   "execution_count": null,
   "metadata": {},
   "outputs": [],
   "source": [
    "from skimage import morphology\n",
    "from skimage.filters.rank import maximum, minimum\n",
    "from skimage.filters import gaussian\n",
    "from timeit import default_timer as timer\n",
    "\n",
    "# We define a structuring element (flat kernel) with radius 30\n",
    "selem =  morphology.disk(30)\n",
    "\n",
    "tic = timer()\n",
    "# We can either directly compute the corrected image\n",
    "corrected = morphology.white_tophat(im, selem)\n",
    "\n",
    "# and deduce the background.\n",
    "bg = im - corrected\n",
    "\n",
    "# Display the image, the estimated background and the corrected image\n",
    "plt_bg_corr(im,bg,corrected)\n",
    "\n",
    "# Display elapsed time for this step\n",
    "etime = timer() - tic\n",
    "print(f\"Elapsed time: {etime:.2f} s\")\n",
    "\n",
    "# Let's test the same by coding directly the Top-Hat function\n",
    "tic = timer()\n",
    "\n",
    "# Define the erosion\n",
    "bg2 = maximum(minimum(im, selem), selem)\n",
    "\n",
    "# Eventually, we can post process the background \n",
    "bg2 = gaussian(np.asarray(bg2,dtype=float), 20)\n",
    "\n",
    "# Compute the residuals to obtain the top-hat\n",
    "corrected2 = np.asarray(im,dtype=float)  - bg2\n",
    "\n",
    "# Display again the results and timing\n",
    "plt_bg_corr(im,bg2,corrected2)\n",
    "etime = timer() - tic\n",
    "print(f\"Elapsed time: {etime:.2f} s\")\n"
   ]
  }
 ],
 "metadata": {
  "kernelspec": {
   "display_name": "imaging",
   "language": "python",
   "name": "imaging"
  },
  "language_info": {
   "codemirror_mode": {
    "name": "ipython",
    "version": 3
   },
   "file_extension": ".py",
   "mimetype": "text/x-python",
   "name": "python",
   "nbconvert_exporter": "python",
   "pygments_lexer": "ipython3",
   "version": "3.9.16"
  },
  "name": "example3-enhancement.ipynb"
 },
 "nbformat": 4,
 "nbformat_minor": 2
}
