{
 "cells": [
  {
   "attachments": {},
   "cell_type": "markdown",
   "metadata": {},
   "source": [
    "# Batch processing\n",
    "\n",
    "To process multiple files we can list them using `glob` from pathlib :"
   ]
  },
  {
   "cell_type": "code",
   "execution_count": 25,
   "metadata": {},
   "outputs": [
    {
     "data": {
      "text/plain": [
       "[{'Filename': 'example',\n",
       "  'File size [MB]': 8.01251,\n",
       "  'Mean intensity': 222.7312218760817},\n",
       " {'Filename': 'nuclei',\n",
       "  'File size [MB]': 1.376581,\n",
       "  'Mean intensity': 237.0165611300536},\n",
       " {'Filename': 'cells',\n",
       "  'File size [MB]': 8.472891,\n",
       "  'Mean intensity': 717.0239585998139}]"
      ]
     },
     "execution_count": 25,
     "metadata": {},
     "output_type": "execute_result"
    }
   ],
   "source": [
    "from pathlib import Path\n",
    "import tifffile\n",
    "\n",
    "def process(path : Path):\n",
    "    \"\"\" Analyze the image \n",
    "    Parameter\n",
    "    ---------\n",
    "    path (Path) : path to the image file\n",
    "    Return\n",
    "    ------\n",
    "    Dictionnary with 'filename', 'File size [MB]' and 'average' keys\n",
    "    \"\"\"\n",
    "    img = tifffile.imread(path)\n",
    "    mask = (img > 200)\n",
    "    return {\n",
    "        'Filename': str(path.stem), \n",
    "        'File size [MB]': path.stat().st_size/1e6,\n",
    "        'Mean intensity':(img * mask).sum() / mask.sum()\n",
    "        }\n",
    "\n",
    "# define the path to the folder\n",
    "folder = Path('../data')\n",
    "# process all tif files in the folder\n",
    "results = [process(x) for x in folder.glob('*.tif')]\n",
    "# show the results\n",
    "results\n"
   ]
  },
  {
   "attachments": {},
   "cell_type": "markdown",
   "metadata": {},
   "source": [
    "We can then reformat the results as a pandas dataframe using `from_records`:"
   ]
  },
  {
   "cell_type": "code",
   "execution_count": 36,
   "metadata": {},
   "outputs": [],
   "source": [
    "import pandas as pd\n",
    "# convert the list of dictionnary to a dataframe\n",
    "df = pd.DataFrame.from_records(results)"
   ]
  },
  {
   "attachments": {},
   "cell_type": "markdown",
   "metadata": {},
   "source": [
    "Finally we can add some information to the list of files such as condition \n",
    "associated to each file."
   ]
  },
  {
   "cell_type": "code",
   "execution_count": 38,
   "metadata": {},
   "outputs": [
    {
     "data": {
      "text/html": [
       "<div>\n",
       "<style scoped>\n",
       "    .dataframe tbody tr th:only-of-type {\n",
       "        vertical-align: middle;\n",
       "    }\n",
       "\n",
       "    .dataframe tbody tr th {\n",
       "        vertical-align: top;\n",
       "    }\n",
       "\n",
       "    .dataframe thead th {\n",
       "        text-align: right;\n",
       "    }\n",
       "</style>\n",
       "<table border=\"1\" class=\"dataframe\">\n",
       "  <thead>\n",
       "    <tr style=\"text-align: right;\">\n",
       "      <th></th>\n",
       "      <th>Filename</th>\n",
       "      <th>File size [MB]</th>\n",
       "      <th>Mean intensity</th>\n",
       "      <th>Condition</th>\n",
       "    </tr>\n",
       "  </thead>\n",
       "  <tbody>\n",
       "    <tr>\n",
       "      <th>0</th>\n",
       "      <td>example</td>\n",
       "      <td>8.012510</td>\n",
       "      <td>222.731222</td>\n",
       "      <td>YYY</td>\n",
       "    </tr>\n",
       "    <tr>\n",
       "      <th>1</th>\n",
       "      <td>nuclei</td>\n",
       "      <td>1.376581</td>\n",
       "      <td>237.016561</td>\n",
       "      <td>XXX</td>\n",
       "    </tr>\n",
       "    <tr>\n",
       "      <th>2</th>\n",
       "      <td>cells</td>\n",
       "      <td>8.472891</td>\n",
       "      <td>717.023959</td>\n",
       "      <td>XXX</td>\n",
       "    </tr>\n",
       "  </tbody>\n",
       "</table>\n",
       "</div>"
      ],
      "text/plain": [
       "  Filename  File size [MB]  Mean intensity Condition\n",
       "0  example        8.012510      222.731222       YYY\n",
       "1   nuclei        1.376581      237.016561       XXX\n",
       "2    cells        8.472891      717.023959       XXX"
      ]
     },
     "execution_count": 38,
     "metadata": {},
     "output_type": "execute_result"
    }
   ],
   "source": [
    "condition = pd.DataFrame.from_records([\n",
    "    {'Filename':'nuclei', 'Condition':'XXX'},\n",
    "    {'Filename':'cells', 'Condition':'XXX'},\n",
    "    {'Filename':'example', 'Condition':'YYY'}\n",
    "])\n",
    "df.merge(condition)"
   ]
  }
 ],
 "metadata": {
  "kernelspec": {
   "display_name": "imaging",
   "language": "python",
   "name": "imaging"
  },
  "language_info": {
   "codemirror_mode": {
    "name": "ipython",
    "version": 3
   },
   "file_extension": ".py",
   "mimetype": "text/x-python",
   "name": "python",
   "nbconvert_exporter": "python",
   "pygments_lexer": "ipython3",
   "version": "3.9.15"
  },
  "orig_nbformat": 4,
  "vscode": {
   "interpreter": {
    "hash": "31f2aee4e71d21fbe5cf8b01ff0e069b9275f58929596ceb00d14d90e3e16cd6"
   }
  }
 },
 "nbformat": 4,
 "nbformat_minor": 2
}
