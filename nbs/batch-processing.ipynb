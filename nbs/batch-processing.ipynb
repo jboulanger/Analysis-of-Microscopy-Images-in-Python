{
 "cells": [
  {
   "cell_type": "markdown",
   "metadata": {},
   "source": [
    "# Batch processing\n",
    "It can be useful to prepare the processing of several file to list them in\n",
    "a table, filter out some files and process them."
   ]
  },
  {
   "cell_type": "code",
   "execution_count": null,
   "metadata": {},
   "outputs": [],
   "source": [
    "from pathlib import Path\n",
    "import pandas as pd\n",
    "\n",
    "# define the path to the folder\n",
    "folder = Path('../data')\n",
    "\n",
    "# list nd2 files in a folder and save them in a Pandas Data Frame:\n",
    "dataset = pd.DataFrame({\n",
    "    'filename':[Path(str(x).replace(str(folder),'')) for x in folder.glob('*/*.nd2')],\n",
    "    'filesize':[x.stat().st_size/1e9 for x in folder.glob('*/*.nd2')]\n",
    "    })\n",
    "    \n",
    "dataset"
   ]
  },
  {
   "cell_type": "markdown",
   "metadata": {},
   "source": [
    "Let's add a column using a regular expression `.*Developmental stage ([0-9]).*`\n",
    "to extract the stage from the folder name:"
   ]
  },
  {
   "cell_type": "code",
   "execution_count": null,
   "metadata": {},
   "outputs": [],
   "source": [
    "import re\n",
    "dataset['stage'] = [int(re.sub(r'.*Developmental stage ([0-9]).*',r'\\1',str(x))) for x in dataset['filename']]\n",
    "dataset"
   ]
  },
  {
   "cell_type": "markdown",
   "metadata": {},
   "source": [
    "Filter out some rows based on a test:"
   ]
  },
  {
   "cell_type": "code",
   "execution_count": null,
   "metadata": {},
   "outputs": [],
   "source": [
    "dataset = dataset.query('filesize>0.1')\n",
    "# or dataset = dataset[dataset['filesize']>0.1]"
   ]
  },
  {
   "cell_type": "markdown",
   "metadata": {},
   "source": [
    "We can now process the file we have selected:"
   ]
  },
  {
   "cell_type": "code",
   "execution_count": null,
   "metadata": {},
   "outputs": [],
   "source": [
    "def process_row(input:dict) -> pd.DataFrame:\n",
    "    \"\"\"Process a dictionary and return a pandas data frame\n",
    "    \"\"\"\n",
    "    # Load an image    \n",
    "    # img = tiff.imread(input['filename'])\n",
    "    # Process the image or perform other operations\n",
    "    # create a data frame, note that values must be lists            \n",
    "    return pd.DataFrame({'filename': [input['filename']],'x':[input['stage'] + 1],'y':[7]})\n",
    "\n",
    "result = pd.concat([process_row(row) for row in dataset.to_dict(orient='records')],ignore_index=True)\n",
    "result"
   ]
  },
  {
   "cell_type": "markdown",
   "metadata": {},
   "source": [
    "We merge the results and the original input table once the processing is done\n",
    "in order to keep the original information on the dataset"
   ]
  },
  {
   "cell_type": "code",
   "execution_count": null,
   "metadata": {},
   "outputs": [],
   "source": [
    "result = dataset.merge(result)"
   ]
  }
 ],
 "metadata": {
  "kernelspec": {
   "display_name": "Python 3.6.9 64-bit",
   "language": "python",
   "name": "python3"
  },
  "language_info": {
   "name": "python",
   "version": "3.6.9"
  },
  "orig_nbformat": 4,
  "vscode": {
   "interpreter": {
    "hash": "31f2aee4e71d21fbe5cf8b01ff0e069b9275f58929596ceb00d14d90e3e16cd6"
   }
  }
 },
 "nbformat": 4,
 "nbformat_minor": 2
}
