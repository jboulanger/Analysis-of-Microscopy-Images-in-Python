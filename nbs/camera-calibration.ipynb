{
    "cells": [
        {
            "cell_type": "markdown",
            "metadata": {},
            "source": [
                "# Noise level estimation"
            ]
        },
        {
            "cell_type": "code",
            "execution_count": null,
            "metadata": {},
            "outputs": [],
            "source": [
                "\n",
                "import numpy as np\n",
                "\n",
                "def estimate_awgn_std(data:np.array):\n",
                "    ''' Estimate additive Gaussian white noise standard deviation '''\n",
                "    # compute pseudo residuals for each axis \n",
                "    # normalize the filter so that sum h^2=1 ( 1/sqrt(6) )\n",
                "    h = 0.4082482904638631 * np.array([1.,-2.,1.]) \n",
                "    flt = data\n",
                "    for axis in range(len(data.shape)) :\n",
                "        flt = np.apply_along_axis(lambda x: np.convolve(x,h), axis, flt)\n",
                "    # comute MAD / scipy.stats.norm.ppf(3/4)\n",
                "    return 1.482602218 * np.median(np.abs(flt-np.median(flt)))\n"
            ]
        },
        {
            "cell_type": "code",
            "execution_count": 11,
            "metadata": {},
            "outputs": [
                {
                    "name": "stderr",
                    "output_type": "stream",
                    "text": [
                        "<ipython-input-11-9d3b1961de11>:5: RuntimeWarning: divide by zero encountered in log\n",
                        "  plt.plot(p,-np.log(p))\n"
                    ]
                },
                {
                    "data": {
                        "text/plain": [
                            "2.3025850929940455"
                        ]
                    },
                    "execution_count": 11,
                    "metadata": {},
                    "output_type": "execute_result"
                },
                {
                    "data": {
                        "image/png": "[encoded data removed]",
                        "text/plain": [
                            "<Figure size 432x288 with 1 Axes>"
                        ]
                    },
                    "metadata": {
                        "needs_background": "light"
                    },
                    "output_type": "display_data"
                }
            ],
            "source": [
                "import math\n",
                "import numpy as np\n",
                "import matplotlib.pyplot as plt\n",
                "p = np.linspace(0,1)\n",
                "plt.plot(p,-np.log(p))\n",
                "\n",
                "-math.log(0.1)"
            ]
        }
    ],
    "metadata": {
        "interpreter": {
            "hash": "f6cb53e4cae58c19d01a25dc0dace12f397db98da729074f7b2c82d85c25fd9c"
        },
        "kernelspec": {
            "display_name": "Python 3.8.5 64-bit ('imageanalysis': conda)",
            "name": "python3"
        },
        "language_info": {
            "codemirror_mode": {
                "name": "ipython",
                "version": 3
            },
            "file_extension": ".py",
            "mimetype": "text/x-python",
            "name": "python",
            "nbconvert_exporter": "python",
            "pygments_lexer": "ipython3",
            "version": "3.8.5"
        },
        "orig_nbformat": 4
    },
    "nbformat": 4,
    "nbformat_minor": 2
}
