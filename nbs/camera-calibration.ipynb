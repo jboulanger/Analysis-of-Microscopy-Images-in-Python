{
    "cells": [
        {
            "cell_type": "markdown",
            "source": [
                "# Noise level estimation"
            ],
            "metadata": {}
        },
        {
            "cell_type": "code",
            "execution_count": null,
            "source": [
                "\n",
                "import numpy as np\n",
                "\n",
                "def estimate_awgn_std(data:np.array):\n",
                "    ''' Estimate additive Gaussian white noise standard deviation '''\n",
                "    # compute pseudo residuals for each axis \n",
                "    # normalize the filter so that sum h^2=1 ( 1/sqrt(6) )\n",
                "    h = 0.4082482904638631 * np.array([1.,-2.,1.]) \n",
                "    flt = data\n",
                "    for axis in range(len(data.shape)) :\n",
                "        flt = np.apply_along_axis(lambda x: np.convolve(x,h), axis, flt)\n",
                "    # comute MAD / scipy.stats.norm.ppf(3/4)\n",
                "    return 1.482602218 * np.median(np.abs(flt-np.median(flt)))\n"
            ],
            "outputs": [],
            "metadata": {}
        }
    ],
    "metadata": {
        "orig_nbformat": 4,
        "language_info": {
            "name": "python"
        }
    },
    "nbformat": 4,
    "nbformat_minor": 2
}