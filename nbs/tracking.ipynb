{
 "cells": [
  {
   "cell_type": "markdown",
   "metadata": {},
   "source": [
    "# Tracking\n",
    "\n",
    "There are various tracking library we can use to link object over time in order to define trajectories.\n"
   ]
  },
  {
   "cell_type": "markdown",
   "metadata": {},
   "source": [
    "## Bayesian tracker \n",
    "\n",
    "The first tracker that we will test is the BayesianTracker https://github.com/quantumjot/BayesianTracker .\n",
    "\n",
    "Reference:\n",
    "Automated deep lineage tree analysis using a Bayesian single cell tracking approach, Ulicna K, Vallardi G, Charras G and Lowe AR., bioRxiv (2020), https://www.biorxiv.org/content/early/2020/09/10/2020.09.10.276980\n",
    "\n",
    "Installation\n",
    "We can install the package using ```pip install btrack```\n",
    "\n",
    "Let's try a first example"
   ]
  },
  {
   "cell_type": "code",
   "execution_count": null,
   "metadata": {},
   "outputs": [],
   "source": [
    "import btrack\n",
    "import numpy as np\n",
    "import matplotlib.pyplot as plt\n",
    "\n",
    "# We define a list of positions we want to track later\n",
    "num_objects = 10 # number of objects\n",
    "num_frame = 20 # number of time points\n",
    "pts = [] # list of set of coordinates\n",
    "for k in range(num_frame):\n",
    "    if k==0:\n",
    "        pts.append(np.hstack([np.random.rand(10,2), np.zeros((10,1))]))\n",
    "    else:\n",
    "        pts.append(pts[k-1]+np.hstack([0.01*np.random.randn(10,2), np.ones((10,1))]))\n",
    "        \n",
    "localizations = np.concatenate(pts)\n",
    "plt.plot(localizations[:,0], localizations[:,1],'.')"
   ]
  },
  {
   "cell_type": "code",
   "execution_count": null,
   "metadata": {},
   "outputs": [],
   "source": [
    "# Download a generic motion model to use with btrack\n",
    "from urllib.request import urlretrieve\n",
    "url = 'https://raw.githubusercontent.com/quantumjot/BayesianTracker/7d80399db64af4723c1da2381a22d9910e1ba7c8/models/cell_config.json'\n",
    "config = '../scratch/cell_config.json'\n",
    "urlretrieve(url, config)"
   ]
  },
  {
   "cell_type": "code",
   "execution_count": null,
   "metadata": {},
   "outputs": [],
   "source": [
    "# Convert the numpy localization as PyTrackObjects\n",
    "objects = btrack.dataio.objects_from_array(localizations, ['x', 'y', 't'])\n",
    "\n",
    "with btrack.BayesianTracker() as tracker:\n",
    "    # load the configuration file\n",
    "    tracker.configure_from_file(config)\n",
    "    # add the objects to the tracker\n",
    "    tracker.append(objects)\n",
    "    tracker.volume=((-0.5, 1.5), (-0.5, 1.5), (-1e5, 1e5))\n",
    "    # tracl objects\n",
    "    tracker.track_interactive(step_size=1)\n",
    "    # run the global optimizer\n",
    "    tracker.optimize()\n",
    "    # tracks as a python list\n",
    "    tracks = tracker.tracks\n",
    "    # get tracks formated for napari\n",
    "    data, properties, graph = tracker.to_napari(ndim=2)"
   ]
  },
  {
   "cell_type": "markdown",
   "metadata": {},
   "source": [
    "To represent the tracks in 2D we can plot them individually.  tracker.tracks is a list of dictionnary containing various fields such as ID,x,y,z,t,parent,root,state,etc.."
   ]
  },
  {
   "cell_type": "code",
   "execution_count": null,
   "metadata": {},
   "outputs": [],
   "source": [
    "for trck in tracks:\n",
    "    plt.plot(trck.x,trck.y)"
   ]
  },
  {
   "cell_type": "markdown",
   "metadata": {},
   "source": [
    "### Track visualization with napari\n",
    "note: if you run this with python 3.9, you need to use an specific version of networkx to be ```conda install -c conda-forge networkx=2.5```"
   ]
  },
  {
   "cell_type": "code",
   "execution_count": null,
   "metadata": {},
   "outputs": [],
   "source": [
    "import napari\n",
    "viewer = napari.Viewer()\n",
    "viewer.add_tracks(data, properties=properties, graph=graph)"
   ]
  },
  {
   "cell_type": "markdown",
   "metadata": {},
   "source": [
    "## Tracking with trackpy\n",
    "\n",
    "http://soft-matter.github.io/trackpy/v0.5.0/\n"
   ]
  }
 ],
 "metadata": {
  "kernelspec": {
   "display_name": "imaging",
   "language": "python",
   "name": "imaging"
  },
  "language_info": {
   "codemirror_mode": {
    "name": "ipython",
    "version": 3
   },
   "file_extension": ".py",
   "mimetype": "text/x-python",
   "name": "python",
   "nbconvert_exporter": "python",
   "pygments_lexer": "ipython3",
   "version": "3.9.15"
  },
  "name": "example10-tracking.ipynb"
 },
 "nbformat": 4,
 "nbformat_minor": 2
}
