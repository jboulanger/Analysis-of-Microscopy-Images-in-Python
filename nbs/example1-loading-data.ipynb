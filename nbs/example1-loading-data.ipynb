{
 "cells": [
  {
   "cell_type": "code",
   "execution_count": null,
   "metadata": {},
   "outputs": [],
   "source": []
  }
 ],
 "metadata": {
  "interpreter": {
   "hash": "f6cb53e4cae58c19d01a25dc0dace12f397db98da729074f7b2c82d85c25fd9c"
  },
  "kernelspec": {
   "display_name": "Python 3.8.5 64-bit ('imageanalysis': conda)",
   "name": "python3"
  },
  "language_info": {
   "name": "python",
   "version": ""
  },
  "orig_nbformat": 4
 },
 "nbformat": 4,
 "nbformat_minor": 2
}