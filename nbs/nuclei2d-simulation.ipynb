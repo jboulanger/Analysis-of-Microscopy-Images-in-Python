{
 "cells": [
  {
   "cell_type": "code",
   "execution_count": null,
   "metadata": {},
   "outputs": [],
   "source": [
    "import numpy as np\n",
    "import matplotlib.pyplot as plt\n",
    "import math\n",
    "from skimage.draw import polygon\n"
   ]
  },
  {
   "cell_type": "code",
   "execution_count": null,
   "metadata": {},
   "outputs": [],
   "source": [
    "from numpy.random import default_rng\n",
    "rng = default_rng()\n",
    "\n",
    "def generate_wavy_circle_contour(x0,y0,radius,amplitude,smoothness,length):\n",
    "    \"\"\"Generate a awvy circle contour\"\"\"\n",
    "    t = np.linspace(0,2*math.pi,length).reshape((length,1))    \n",
    "    f = np.exp(-smoothness*length*np.abs(np.fft.fftfreq(length))).reshape((length,1))\n",
    "    circle = radius * np.cos(t) + 1j * radius * np.sin(t)    \n",
    "    s = circle + x0 + 1j * y0    \n",
    "    s = s + amplitude * rng.normal(0,0.1,size=(length,1)) * circle\n",
    "    s = np.fft.ifftn(f*np.fft.fftn(s))\n",
    "    return np.real(s),np.imag(s)\n",
    "\n",
    "x, y = generate_wavy_circle_contour(1,1,1,3,0.5,128)\n",
    "plt.plot(x,y)\n"
   ]
  },
  {
   "cell_type": "code",
   "execution_count": null,
   "metadata": {},
   "outputs": [],
   "source": [
    "from skimage.filters import gaussian\n",
    "im = np.zeros((300,400))\n",
    "for k in range(100):\n",
    "    x0 = im.shape[1] * rng.uniform()\n",
    "    y0 = im.shape[0] * rng.uniform()\n",
    "    x, y = generate_wavy_circle_contour(x0,y0,50,5,0.5,64)\n",
    "    rr,cc = polygon(y.ravel(),x.ravel(),im.shape)\n",
    "    if np.all(im[rr,cc]==0):\n",
    "        im[rr,cc] = k+1\n",
    "\n",
    "fx,fy = np.meshgrid(np.fft.fftfreq(im.shape[1]),np.fft.fftfreq(im.shape[0]))\n",
    "\n",
    "g = 1/(1+10*np.sqrt((np.power(fx,2)+np.power(fy,2))))\n",
    "texture = np.real(np.fft.ifftn(g*np.fft.fftn(rng.normal(size=im.shape))))\n",
    "texture = (texture - texture.min()) / (texture.max()-texture.min())\n",
    "texture = np.fmax(texture - 0.3, 0)\n",
    "im = gaussian((im>0) * texture, 1)\n",
    "\n",
    "plt.imshow(im*texture,cmap='gray')\n",
    "plt.imsave(\"/home/jeromeb/Desktop/nuk.png\",im,cmap=\"gray\")\n",
    "\n"
   ]
  }
 ],
 "metadata": {
  "interpreter": {
   "hash": "af652b78da32f40db052c887d212218f2b9dfc5bd9e07e878617985773e27cfb"
  },
  "kernelspec": {
   "display_name": "Python 3.9.5 ('imaging')",
   "language": "python",
   "name": "python3"
  },
  "language_info": {
   "codemirror_mode": {
    "name": "ipython",
    "version": 3
   },
   "file_extension": ".py",
   "mimetype": "text/x-python",
   "name": "python",
   "nbconvert_exporter": "python",
   "pygments_lexer": "ipython3",
   "version": "3.9.5"
  },
  "orig_nbformat": 4
 },
 "nbformat": 4,
 "nbformat_minor": 2
}
