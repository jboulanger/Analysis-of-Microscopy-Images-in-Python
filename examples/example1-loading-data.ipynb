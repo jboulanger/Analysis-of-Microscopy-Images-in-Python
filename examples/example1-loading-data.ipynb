{
 "metadata": {
  "language_info": {
   "codemirror_mode": {
    "name": "ipython",
    "version": 3
   },
   "file_extension": ".py",
   "mimetype": "text/x-python",
   "name": "python",
   "nbconvert_exporter": "python",
   "pygments_lexer": "ipython3",
   "version": "3.8.5-final"
  },
  "orig_nbformat": 2,
  "kernelspec": {
   "name": "python3",
   "display_name": "Python 3.8.5 64-bit ('imageanalysis': conda)",
   "metadata": {
    "interpreter": {
     "hash": "f6cb53e4cae58c19d01a25dc0dace12f397db98da729074f7b2c82d85c25fd9c"
    }
   }
  }
 },
 "nbformat": 4,
 "nbformat_minor": 2,
 "cells": [
  {
   "source": [
    "# Loading data\n",
    "\n",
    "Image data acquired in microscopy are stored in various formats: TIF, LSM, CZI, LIF, ND2\n",
    "We'll use the imageanalysis kernel we have created earlier and we assume here that we are working in the example folder ( use %cd in the notebook to change directory )."
   ],
   "cell_type": "markdown",
   "metadata": {}
  },
  {
   "source": [
    "%cd  C:\\Users\\jeromeb\\Documents\\GitHub\\Analysis-of-Microscopy-Images-in-Python\\examples"
   ],
   "cell_type": "code",
   "metadata": {},
   "execution_count": null,
   "outputs": []
  },
  {
   "source": [
    "Some image reader will return a numpy array which represents array of values on a regular grid. Other might return a Pillow object representing an image object."
   ],
   "cell_type": "markdown",
   "metadata": {}
  },
  {
   "source": [
    "## Loading TIF\n",
    "For loading TIF images, we can use the module tifffile. It also supports LSM (Zeiss), OME-TIF, ImageJ hyperstacks, etc.\n",
    "If installing modules manually, type in the prompt the command: \n",
    "```bash\n",
    "conda install tifffile\n",
    "```\n",
    "Let's load the all content of the file into a numpy array:"
   ],
   "cell_type": "markdown",
   "metadata": {}
  },
  {
   "source": [
    "# We first load in python useful modules for loading and displaying images\n",
    "import tifffile\n",
    "import matplotlib.pyplot as plt\n",
    "\n",
    "# Let's set the name of the file we want to open\n",
    "filename = '../data/example.tif'\n",
    "\n",
    "# We use the tifffile module to read the image from disk\n",
    "img = tifffile.imread(filename)\n",
    "\n",
    "# Let's check the shape/size of the image (note the order of the planes)\n",
    "print(\"The shape of the array is [depth x channels x height x width]\", img.shape)\n",
    "\n",
    "# We select the middle plane and the second channel (indices starts at 0)\n",
    "middle_plane_index = round(img.shape[1] / 2)\n",
    "plane = img[middle_plane_index,1,:,:]\n",
    "plt.imshow(plane)\n",
    "plt.title('Channel:{ch} Plane:{z}'.format(ch=1,z=middle_plane_index))\n",
    "plt.show()"
   ],
   "cell_type": "code",
   "metadata": {},
   "execution_count": null,
   "outputs": []
  },
  {
   "source": [
    "## Nikon ND2 files\n",
    "Nikon ND2 files can be loaded using the python module nd2reader (https://rbnvrw.github.io/nd2reader/). The module is available on the channel conda-forge. Add the conda-forge channel using the following command:\n",
    "```bash\n",
    "conda config --add channels conda-forge\n",
    "```\n",
    "and install it with:\n",
    "```\n",
    "conda install nd2reader\n",
    "```\n",
    "Now we can read an image from ND2 files using:"
   ],
   "cell_type": "markdown",
   "metadata": {}
  },
  {
   "source": [
    "# We load first the nd2reader module\n",
    "from nd2reader import ND2Reader\n",
    "import matplotlib.pyplot as plt\n",
    "\n",
    "# We are creating a reader for the nd2 image\n",
    "with ND2Reader('../data/example.nd2') as images:\n",
    "  \n",
    "  # Let's print out the image size\n",
    "  print('Image size:', images.sizes)\n",
    "  \n",
    "  # We define the axis on which we iterate the 2D planes\n",
    "  images.iter_axes = 'c'\n",
    "\n",
    "  # Let finally show the 2nd channel of the image\n",
    "  plt.imshow(images[1])\n",
    "  plt.title('A ND2 image')\n",
    "  plt.axis('off')"
   ],
   "cell_type": "code",
   "metadata": {},
   "execution_count": null,
   "outputs": []
  },
  {
   "source": [
    "## Leica LIF files\n",
    "For Leila LIF files we can use readlif https://pypi.org/project/readlif/ . This module needs to be installed using pip instead of conda using \n",
    "```\n",
    "pip install readlif\n",
    "```\n",
    "We use the function get_frame from readlif to get a pillow image.  \n",
    "Now let's read a LIF file."
   ],
   "cell_type": "markdown",
   "metadata": {}
  },
  {
   "cell_type": "code",
   "execution_count": null,
   "metadata": {},
   "outputs": [],
   "source": [
    "# Let's load the reader from the readlif module\n",
    "from readlif.reader import LifFile\n",
    "\n",
    "# We create an object containing the image data\n",
    "lif = LifFile('../data/example.lif')\n",
    "\n",
    "# Let's get the first image\n",
    "img_0 = lif.get_image(0)\n",
    "print(\"Image dimensions:\", img_0.dims)\n",
    "\n",
    "# We extract a 2D frame from the image\n",
    "frame = img_0.get_frame(z=0,t=0,m=0)\n",
    "\n",
    "# And finally display the 2D pillow image. \n",
    "plt.imshow(frame)\n",
    "plt.axis('off')\n",
    "plt.show()"
   ]
  },
  {
   "source": [
    "## Zeiss CZI files\n",
    "Another format that you may encounter is the Zeiss CZI file format. \n",
    "\n",
    "You can install the czifile module using ```conda install -y -c conda-forge czifile```. Let's open now a CZI file using the czifile module.\n",
    "\n",
    "The module gives access to an numpy array"
   ],
   "cell_type": "markdown",
   "metadata": {}
  },
  {
   "cell_type": "code",
   "execution_count": null,
   "metadata": {},
   "outputs": [],
   "source": [
    "import czifile\n",
    "\n",
    "image =  czifile.imread('../data/example.czi')\n",
    "print(\"Shape of the array :\" , image.shape)\n",
    "\n",
    "plt.imshow(image[0,0,0,0,:,:,0])\n",
    "plt.axis('off')\n",
    "plt.show()"
   ]
  },
  {
   "source": [
    "We can also use the module from the Allen Institute: aicspylibczi based on libczi from Zeiss. For this we need to install it with ``` pip install  aicspylibczi ```"
   ],
   "cell_type": "markdown",
   "metadata": {}
  },
  {
   "cell_type": "code",
   "execution_count": null,
   "metadata": {},
   "outputs": [],
   "source": [
    "import numpy as np\n",
    "from aicspylibczi import CziFile\n",
    "from pathlib import Path\n",
    "import matplotlib.pyplot as plt\n",
    "\n",
    "pth = Path('../data/example.czi')\n",
    "czi = CziFile(pth)\n",
    "print(\"Size of the image \", czi.size)\n",
    "img, shp = czi.read_image()\n",
    "plt.imshow(img[0,0,0,0,:,:])\n",
    "plt.axis('off')\n",
    "plt.show()\n"
   ]
  },
  {
   "source": [
    "## Using bioformat\n",
    "Bioformat-python enable to load most image format using javabridge and bioformat. We can install bioformat-python with pip but you'll need to install Oracle JDK 1.6 or later first (https://www.oracle.com/uk/java/technologies/javase-jdk15-downloads.html).\n",
    "```\n",
    "pip install python-bioformat\n",
    "```\n",
    "Now let's open an image using bioformat. We need to start a virtual machine first and not forget to stop it when finished.\n"
   ],
   "cell_type": "markdown",
   "metadata": {}
  },
  {
   "cell_type": "code",
   "execution_count": null,
   "metadata": {},
   "outputs": [],
   "source": [
    "import javabridge\n",
    "import bioformats \n",
    "\n",
    "javabridge.start_vm(class_path=bioformats.JARS)\n",
    "img = bioformats.load_image('../data/example.tif', c=0, z=0, t=0)\n",
    "javabridge.kill_vm()\n",
    "plt.imshow(img)"
   ]
  },
  {
   "source": [
    "We may want to convert to a parallel file format such as zarr for performance. A parallel file format enable loading and decoding chunks in parallel. If the underlying hardware is not parallel (HDD) then this has limited interest. On the other hand, on a LUSTRE [https://en.wikipedia.org/wiki/Lustre_(file_system)], the file server is tuned to large files and overhead will occur when splitting the file in small chunks."
   ],
   "cell_type": "markdown",
   "metadata": {}
  },
  {
   "cell_type": "code",
   "execution_count": null,
   "metadata": {},
   "outputs": [],
   "source": [
    "import tifffile\n",
    "import numpy as np\n",
    "import zarr\n",
    "from numcodecs import Blosc\n",
    "\n",
    "# We use the tifffile module to read the image from disk into a numpy array\n",
    "img = tifffile.imread( '../data/example.tif')\n",
    "\n",
    "# By default zarr creates a directory with many files corresponding to data chunk\n",
    "zarr.save('../scratch/example.zarr', img)\n",
    "\n",
    "# We can also define a zip store to store all the files in a single zip file\n",
    "compressor = Blosc(cname='zstd', clevel=3, shuffle=Blosc.BITSHUFFLE)\n",
    "with zarr.ZipStore('../scratch/array.zip', mode='w') as store:\n",
    "    z = zarr.array(img, chunck=(128,128), compressor=compressor, store = store)\n"
   ]
  },
  {
   "source": [
    "We can now load a part of a plane of the image into memory. We can use this approach for example to load specific frames of a time lapse sequence sparing the memory."
   ],
   "cell_type": "markdown",
   "metadata": {}
  },
  {
   "cell_type": "code",
   "execution_count": null,
   "metadata": {},
   "outputs": [],
   "source": [
    "z1 = zarr.open('../scratch/array.zip', mode='r')\n",
    "plt.imshow(z1[12,0,0:200,0:200])\n",
    "plt.axis('off')\n",
    "plt.show()"
   ]
  },
  {
   "source": [
    "## Image pyramid\n",
    "\n",
    "Image pyramid allow faster browsing of multi resolution images.\n",
    "\n",
    "https://forum.image.sc/t/multiscale-arrays-v0-1/37930\n",
    "[https://github.com/ome/ome-zarr-py/blob/master/ome_zarr/data.py]"
   ],
   "cell_type": "markdown",
   "metadata": {}
  },
  {
   "cell_type": "code",
   "execution_count": null,
   "metadata": {},
   "outputs": [],
   "source": [
    "from skimage.transform import pyramid_gaussian, pyramid_laplacian\n",
    "from scipy.ndimage import zoom\n",
    "import zarr\n",
    "from numcodecs import Blosc\n",
    "import numpy as np\n",
    "\n",
    "# We use the tifffile module to read the image from disk\n",
    "img = tifffile.imread('../data/example.tif')\n",
    "\n",
    "# create a pyramid with data shape as t, c, z, y, x\n",
    "print(img.shape)\n",
    "img = np.moveaxis(img, [0,1,2,3],[1,0,2,3])\n",
    "img = np.reshape(img, [1, img.shape[0], img.shape[1], img.shape[2], img.shape[3]])\n",
    "print(img.shape)\n",
    "\n",
    "# pyramid = list(reversed([zoom(img, 2 ** i, order=3) for i in range(4)]))\n",
    "\n",
    "list(reversed([ 2 ** i for i in range(4)]))"
   ]
  },
  {
   "cell_type": "code",
   "execution_count": null,
   "metadata": {},
   "outputs": [],
   "source": [
    "from ome_zarr import data\n",
    "p,l = data.coins()\n",
    "data.create_zarr('../scratch/coins.zarr')"
   ]
  },
  {
   "cell_type": "code",
   "execution_count": null,
   "metadata": {},
   "outputs": [],
   "source": [
    "\n",
    "store = zarr.DirectoryStore('../scratch/pyr.zarr') \n",
    "grp = zarr.group(store)\n",
    "paths = []\n",
    "\n",
    "for path, dataset in enumerate(pyramid):\n",
    "    grp.create_dataset(str(path), data=pyramid[path])\n",
    "    paths.append({\"path\": str(path)})\n",
    "\n",
    "multiscales = [{\"version\": \"0.1\", \"datasets\": paths}]\n",
    "grp.attrs[\"multiscales\"] = multiscales\n",
    "image_data = {\n",
    "    \"channels\": [\n",
    "        {\n",
    "            \"color\": \"FF0000\",\n",
    "            \"window\": {\"start\": 0, \"end\": 1},\n",
    "            \"label\": \"Red\",\n",
    "            \"active\": True,\n",
    "        },\n",
    "        {\n",
    "            \"color\": \"00FF00\",\n",
    "            \"window\": {\"start\": 0, \"end\": 1},\n",
    "            \"label\": \"Green\",\n",
    "            \"active\": True,\n",
    "        }\n",
    "    ],\n",
    "    \"rdefs\": {\"model\": \"color\"},\n",
    "}\n",
    "grp.attrs[\"omero\"] = image_data      \n",
    "print(grp.info)\n"
   ]
  }
 ]
}