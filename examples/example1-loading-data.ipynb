{
 "metadata": {
  "language_info": {
   "codemirror_mode": {
    "name": "ipython",
    "version": 3
   },
   "file_extension": ".py",
   "mimetype": "text/x-python",
   "name": "python",
   "nbconvert_exporter": "python",
   "pygments_lexer": "ipython3",
   "version": "3.8.5-final"
  },
  "orig_nbformat": 2,
  "kernelspec": {
   "name": "python3",
   "display_name": "Python 3.8.5 64-bit ('imageanalysis': conda)",
   "metadata": {
    "interpreter": {
     "hash": "f6cb53e4cae58c19d01a25dc0dace12f397db98da729074f7b2c82d85c25fd9c"
    }
   }
  }
 },
 "nbformat": 4,
 "nbformat_minor": 2,
 "cells": [
  {
   "source": [
    "# Loading data\n",
    "\n",
    "Image data acquired in microscopy are stored in various formats: TIF, LSM, CZI, LIF, ND2\n",
    "We'll use the imageanalysis kernel we have created earlier and we assume here that we are working in the example folder ( use %cd in the notebook to change directory )."
   ],
   "cell_type": "markdown",
   "metadata": {}
  },
  {
   "source": [
    "%cd  C:\\Users\\jeromeb\\Documents\\GitHub\\Analysis-of-Microscopy-Images-in-Python\\examples"
   ],
   "cell_type": "code",
   "metadata": {},
   "execution_count": null,
   "outputs": []
  },
  {
   "cell_type": "code",
   "execution_count": null,
   "metadata": {},
   "outputs": [],
   "source": [
    "import matplotlib.pyplot as plt"
   ]
  },
  {
   "source": [
    "## Loading TIF\n",
    "For loading TIF images, we can use the module tifffile. It also supports LSM (Zeiss), OME-TIF, ImageJ hyperstacks, etc.\n",
    "If installing modules manually, type in the prompt the command: \n",
    "```bash\n",
    "conda install tifffile\n",
    "```\n",
    "Let's load the all content of the file into a numpy array:"
   ],
   "cell_type": "markdown",
   "metadata": {}
  },
  {
   "source": [
    "import tifffile\n",
    "filename = '../data/confocal-series.tif'\n",
    "img = tifffile.imread(filename)\n",
    "print(\"The shape of the array is [depth x channels x height x width]\", img.shape)\n",
    "plt.imshow(img[12,1,:,:])\n",
    "plt.title('A TIF image')\n",
    "plt.show()"
   ],
   "cell_type": "code",
   "metadata": {},
   "execution_count": null,
   "outputs": []
  },
  {
   "source": [
    "## Nikon ND2 files\n",
    "Nikon ND2 files can be loaded using the python module nd2reader (https://rbnvrw.github.io/nd2reader/). The module is available on the channel conda-forge. Add the conda-forge channel using the following command:\n",
    "```bash\n",
    "conda config --add channels conda-forge\n",
    "```\n",
    "and install it with:\n",
    "```\n",
    "conda install nd2reader\n",
    "```\n",
    "Now we can read an image from ND2 files using:"
   ],
   "cell_type": "markdown",
   "metadata": {}
  },
  {
   "source": [
    "from nd2reader import ND2Reader\n",
    "\n",
    "with ND2Reader('../data/example.nd2') as images:\n",
    "  print('Image size:', images.sizes)\n",
    "  images.iter_axes = 'c'\n",
    "  plt.imshow(images[1])\n",
    "  plt.title('A ND2 image')\n",
    "  plt.axis('off')\n",
    "  print(\"Number of images: \", len(images))"
   ],
   "cell_type": "code",
   "metadata": {},
   "execution_count": null,
   "outputs": []
  },
  {
   "source": [
    "## Leica LIF files\n",
    "For Leila LIF files we can use readlif https://pypi.org/project/readlif/ . This module needs to be installed using pip instead of conda using \n",
    "```\n",
    "pip install readlif\n",
    "```\n",
    "Now let's read a LIF file."
   ],
   "cell_type": "markdown",
   "metadata": {}
  },
  {
   "cell_type": "code",
   "execution_count": null,
   "metadata": {},
   "outputs": [],
   "source": [
    "from readlif.reader import LifFile\n",
    "\n",
    "lif = LifFile('../data/example.lif')\n",
    "img_0 = lif.get_image(0)\n",
    "print(\"Image dimensions:\", img_0.dims)\n"
   ]
  },
  {
   "source": [
    "## Zeiss CZI files\n",
    "Another format that you may encounter is the Zeiss CZI file format. \n",
    "\n",
    "You can install the czifile module using ```conda install -y -c conda-forge czifile```. Let's open now a CZI file using the czifile module."
   ],
   "cell_type": "markdown",
   "metadata": {}
  },
  {
   "source": [
    "\n"
   ],
   "cell_type": "markdown",
   "metadata": {}
  },
  {
   "cell_type": "code",
   "execution_count": null,
   "metadata": {},
   "outputs": [],
   "source": [
    "import czifile\n",
    "\n",
    "image =  czifile.imread('../data/example.czi')\n",
    "print(\"Shape of the array :\" , image.shape)\n",
    "\n",
    "plt.imshow(image[0,0,0,0,:,:,0])\n"
   ]
  },
  {
   "source": [
    "We can also use the module from the Allen Institute: aicspylibczi based on libczi from Zeiss. For this we need to install it with ``` pip install  aicspylibczi ```"
   ],
   "cell_type": "markdown",
   "metadata": {}
  },
  {
   "cell_type": "code",
   "execution_count": null,
   "metadata": {},
   "outputs": [],
   "source": [
    "import numpy as np\n",
    "from aicspylibczi import CziFile\n",
    "from pathlib import Path\n",
    "import matplotlib.pyplot as plt\n",
    "\n",
    "pth = Path('../data/example.czi')\n",
    "czi = CziFile(pth)\n",
    "print(\"Size of the image \", czi.size)\n",
    "img, shp = czi.read_image()\n",
    "plt.imshow(img[0,0,0,0,:,:])"
   ]
  },
  {
   "source": [
    "## Using bioformat\n",
    "Bioformat-python enable to load most image format using javabridge and bioformat. We can install bioformat-python with pip but you'll need to install Oracle JDK 1.6 or later first (https://www.oracle.com/uk/java/technologies/javase-jdk15-downloads.html).\n",
    "```\n",
    "pip install python-bioformat\n",
    "```\n",
    "Now let's open an image using bioformat. We need to start a virtual machine first and not forget to stop it when finished.\n"
   ],
   "cell_type": "markdown",
   "metadata": {}
  },
  {
   "cell_type": "code",
   "execution_count": null,
   "metadata": {},
   "outputs": [],
   "source": [
    "import javabridge\n",
    "import bioformats \n",
    "\n",
    "javabridge.start_vm(class_path=bioformats.JARS)\n",
    "img = bioformats.load_image('../data/confocal-series.tif',c=0,z=0,t=0)\n",
    "javabridge.kill_vm()\n",
    "plt.imshow(img)"
   ]
  },
  {
   "cell_type": "code",
   "execution_count": null,
   "metadata": {},
   "outputs": [],
   "source": []
  }
 ]
}