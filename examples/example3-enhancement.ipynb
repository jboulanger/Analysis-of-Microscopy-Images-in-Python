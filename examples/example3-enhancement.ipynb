{
 "metadata": {
  "language_info": {
   "codemirror_mode": {
    "name": "ipython",
    "version": 3
   },
   "file_extension": ".py",
   "mimetype": "text/x-python",
   "name": "python",
   "nbconvert_exporter": "python",
   "pygments_lexer": "ipython3",
   "version": "3.8.5-final"
  },
  "orig_nbformat": 2,
  "kernelspec": {
   "name": "python3",
   "display_name": "Python 3.8.5 64-bit ('imageanalysis': conda)",
   "metadata": {
    "interpreter": {
     "hash": "f6cb53e4cae58c19d01a25dc0dace12f397db98da729074f7b2c82d85c25fd9c"
    }
   }
  }
 },
 "nbformat": 4,
 "nbformat_minor": 2,
 "cells": [
  {
   "source": [
    "# Enhancement\n",
    "We'll see how to improve the image quality using filtering and deconvolution"
   ],
   "cell_type": "markdown",
   "metadata": {}
  },
  {
   "cell_type": "code",
   "execution_count": null,
   "metadata": {},
   "outputs": [],
   "source": [
    "%cd  C:\\Users\\jeromeb\\Documents\\GitHub\\Analysis-of-Microscopy-Images-in-Python\\examples"
   ]
  },
  {
   "cell_type": "code",
   "execution_count": null,
   "metadata": {},
   "outputs": [],
   "source": [
    "%gui qt"
   ]
  },
  {
   "cell_type": "code",
   "execution_count": null,
   "metadata": {},
   "outputs": [],
   "source": [
    "import tifffile\n",
    "import numpy as np\n",
    "\n",
    "filename = '../data/example.tif'\n",
    "img = tifffile.imread(filename)\n",
    "print(\"The shape of the array is [depth x channels x height x width]\", img.shape)"
   ]
  },
  {
   "cell_type": "code",
   "execution_count": null,
   "metadata": {},
   "outputs": [],
   "source": [
    "from skimage import filters\n",
    "import napari\n",
    "\n",
    "smoothed = img\n",
    "smoothed[0,:,:,:] = filters.gaussian(img[0,:,:,:], 10)\n",
    "smoothed[1,:,:,:] = filters.gaussian(img[1,:,:,:], 10)\n",
    "plt.imshow(smoothed[0,0,:,:])\n",
    "print(smoothed.shape)\n",
    "with napari.gui_qt():\n",
    "    # create a Viewer and add an image here with the two channels and scaling\n",
    "    napari.view_image(smoothed,channel_axis=1,name=['dapi', 'fitc'],scale=[10,1,1])"
   ]
  },
  {
   "cell_type": "code",
   "execution_count": null,
   "metadata": {},
   "outputs": [],
   "source": []
  }
 ]
}