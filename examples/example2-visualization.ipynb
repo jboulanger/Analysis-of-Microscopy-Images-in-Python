{
 "metadata": {
  "language_info": {
   "codemirror_mode": {
    "name": "ipython",
    "version": 3
   },
   "file_extension": ".py",
   "mimetype": "text/x-python",
   "name": "python",
   "nbconvert_exporter": "python",
   "pygments_lexer": "ipython3",
   "version": "3.8.5-final"
  },
  "orig_nbformat": 2,
  "kernelspec": {
   "name": "python3",
   "display_name": "Python 3.8.5 64-bit ('imageanalysis': conda)",
   "metadata": {
    "interpreter": {
     "hash": "f6cb53e4cae58c19d01a25dc0dace12f397db98da729074f7b2c82d85c25fd9c"
    }
   }
  }
 },
 "nbformat": 4,
 "nbformat_minor": 2,
 "cells": [
  {
   "source": [
    "# Visualization\n",
    "\n",
    "Let's load first an image\n"
   ],
   "cell_type": "markdown",
   "metadata": {}
  },
  {
   "cell_type": "code",
   "execution_count": null,
   "metadata": {},
   "outputs": [],
   "source": [
    "import tifffile\n",
    "\n",
    "filename = '../data/example.tif'\n",
    "img = tifffile.imread(filename)\n",
    "print(\"The shape of the array is [depth x channels x height x width]\", img.shape)"
   ]
  },
  {
   "source": [
    "We can display a 2D image using imshow from matplotlib. To display the two channels together, we create a RGB image by coding a small function 'to_rgb' than takes as an input an image with 2 channels with channel being the first index and return an images with 3 channels with channels as last index."
   ],
   "cell_type": "markdown",
   "metadata": {}
  },
  {
   "cell_type": "code",
   "execution_count": null,
   "metadata": {},
   "outputs": [],
   "source": [
    "import matplotlib.pyplot as plt\n",
    "import numpy as np\n",
    "\n",
    "def to_rgb(array):\n",
    "    ''' Convert the a cxy 2 channel image to a xyc rgb image'''\n",
    "    shp = (array.shape[1],array.shape[2],3)\n",
    "    rgb = np.zeros(shp,dtype=array.dtype)\n",
    "    rgb[:,:,0] = array[0,:,:]\n",
    "    rgb[:,:,1] = array[1,:,:]\n",
    "    return rgb\n",
    "\n",
    "plt.imshow(to_rgb(img[12,:,:,:]))\n",
    "plt.axis('off')\n",
    "plt.show()"
   ]
  },
  {
   "source": [
    "We can install a scale bar to the figure using the scalebar module that can be installed using ```pip install matplotlib-scalebar```. We'll also see how to save the figure to a pdf file that can be later used for publication."
   ],
   "cell_type": "markdown",
   "metadata": {}
  },
  {
   "cell_type": "code",
   "execution_count": null,
   "metadata": {},
   "outputs": [],
   "source": [
    "# let's load the module\n",
    "from matplotlib_scalebar.scalebar import ScaleBar\n",
    "\n",
    "fig, ax = plt.subplots()\n",
    "plt.imshow(to_rgb(img[12,:,:,:]))\n",
    "scalebar = ScaleBar(0.08, \"um\", length_fraction=0.25, color=[1,1,1],box_color=[0,0,0],location='lower right')\n",
    "ax.add_artist(scalebar)\n",
    "plt.axis('off')\n",
    "plt.savefig('../scratch/figure.png',dpi=600)\n",
    "plt.show()"
   ]
  },
  {
   "source": [
    "## Maximum intensity projection\n",
    "A usual to visualize 3D data sets is to compute a maximum intensity projection."
   ],
   "cell_type": "markdown",
   "metadata": {}
  },
  {
   "cell_type": "code",
   "execution_count": null,
   "metadata": {},
   "outputs": [],
   "source": [
    "import numpy as np\n",
    "\n",
    "print('The original image shape is', img.shape)\n",
    "\n",
    "# compute the maximum intensity projection along the 1st axis (index 0)\n",
    "mip = np.amax(img,axis=0)\n",
    "\n",
    "# display the result\n",
    "plt.imshow(to_rgb(mip))\n",
    "plt.axis('off')\n",
    "plt.title('Maximum intensity projection')\n",
    "plt.show()"
   ]
  },
  {
   "source": [
    "Let's add a widget to explore the z serie. We'll reuse here the image already loaded and the function to_rgb to convert the image plane by plane. We need to code an update function that refresh the displayed image and used it in the inteact function which will display a widget slider controling the z plane."
   ],
   "cell_type": "markdown",
   "metadata": {}
  },
  {
   "cell_type": "code",
   "execution_count": null,
   "metadata": {},
   "outputs": [],
   "source": [
    "from ipywidgets import *\n",
    "\n",
    "slider = widgets.IntSlider(value=1,min=1,max=25,step=1,description=\"Z\",disabled=False)\n",
    "\n",
    "def update(z):\n",
    "    if z < img.shape[0]:\n",
    "        plt.imshow(to_rgb(img[z-1,:,:,:]))\n",
    "        plt.axis('off')\n",
    "        plt.title(f\"Slice: {z}\")\n",
    "\n",
    "interact(update,z=slider);\n",
    "\n"
   ]
  },
  {
   "source": [
    "## Cropping\n"
   ],
   "cell_type": "markdown",
   "metadata": {}
  },
  {
   "cell_type": "code",
   "execution_count": null,
   "metadata": {},
   "outputs": [],
   "source": [
    "import tifffile\n",
    "import matplotlib.pyplot as plt\n",
    "\n",
    "img = tifffile.imread('../data/nuclei.tif')\n",
    "\n",
    "# To crop the image, we use the index of the rows and columns we want to extract \n",
    "# from the image using the syntax img[row1:row2,column1:column2]\n",
    "crop = img[0:200,0:500]\n",
    "plt.imshow(crop)\n",
    "plt.title('Cropped image')\n",
    "plt.axis('off')\n",
    "plt.show()"
   ]
  },
  {
   "source": [
    "## Histogram\n",
    "Histograms provide a quick insight on the distribion of the intensity in the image."
   ],
   "cell_type": "markdown",
   "metadata": {}
  },
  {
   "cell_type": "code",
   "execution_count": null,
   "metadata": {},
   "outputs": [],
   "source": [
    "import matplotlib.pyplot as plt\n",
    "from skimage.exposure import histogram\n",
    "\n",
    "filename = '../data/nuclei.tif'\n",
    "img = tifffile.imread(filename)\n",
    "hist, hist_centers  = histogram(img)\n",
    "\n",
    "fig, axes = plt.subplots(1, 2, figsize=(8, 3))\n",
    "axes[0].imshow(img, cmap=plt.cm.gray)\n",
    "axes[0].axis('off')\n",
    "axes[1].plot(hist_centers, hist, lw=2)\n",
    "axes[1].set_title('histogram of gray values')\n",
    "fig.show()"
   ]
  },
  {
   "source": [
    "## 3D rendering of volumes\n",
    "Often images acquired in microsopcy are tri-dimensional and we need a way to visualize them in their original full dimensionnality."
   ],
   "cell_type": "markdown",
   "metadata": {}
  },
  {
   "source": [
    "### Using ipyvolume\n",
    "We can use ipyvolume to render interactively images in a notebook. This will run only in a browser. We install ipyvolume in conda using: \n",
    "```conda install -c conda-forge ipyvolume```"
   ],
   "cell_type": "markdown",
   "metadata": {}
  },
  {
   "cell_type": "code",
   "execution_count": null,
   "metadata": {},
   "outputs": [],
   "source": [
    "#import ipyvolume as ipv\n",
    "#ipv.figure()\n",
    "#ipv.volshow(img[:,1,:,:])"
   ]
  },
  {
   "source": [
    "## Using napari\n",
    "\n",
    "Napari is a visualization program designed for browsing, annotating, and analyzing large multi-dimensional images.\n",
    "```conda install -c conda-forge napari ```\n",
    "We are in a notebook and we need to initialize the GUI interface before by running (```%gui qt```) before hand as it takes a few seconds to initialize:"
   ],
   "cell_type": "markdown",
   "metadata": {}
  },
  {
   "cell_type": "code",
   "execution_count": null,
   "metadata": {},
   "outputs": [],
   "source": [
    "%gui qt"
   ]
  },
  {
   "source": [
    "We first visualize our volume with its 2 channels:"
   ],
   "cell_type": "markdown",
   "metadata": {}
  },
  {
   "cell_type": "code",
   "execution_count": null,
   "metadata": {},
   "outputs": [],
   "source": [
    "import tifffile\n",
    "import napari\n",
    "\n",
    "# Load a 3D image\n",
    "filename = '../data/example.tif'\n",
    "img = tifffile.imread(filename)\n",
    "\n",
    "# Create a Viewer and add an image here with the two channels and scaling\n",
    "with napari.gui_qt():\n",
    "    napari.view_image(img, channel_axis=1, name=['dapi', 'fitc'], scale=[10,1,1])"
   ]
  },
  {
   "source": [
    "Let's add an iso-surface. We first smooth the surface using a Gaussian filter and then compute a triangulation of the isosurface using the marching cubes algorithm."
   ],
   "cell_type": "markdown",
   "metadata": {}
  },
  {
   "cell_type": "code",
   "execution_count": null,
   "metadata": {},
   "outputs": [],
   "source": [
    "from skimage import measure\n",
    "from skimage import filters\n",
    "from mpl_toolkits.mplot3d import Axes3D\n",
    "from mpl_toolkits.mplot3d.art3d import Poly3DCollection\n",
    "\n",
    "iso_val = 64 # iso value / threshold\n",
    "\n",
    "# prefilter the image to produce a smoother surface\n",
    "vol = filters.gaussian(np.squeeze(img[:,1,:,:]),2,preserve_range=True)\n",
    "\n",
    "# Create a surface at an isovalue (or threshold) using the marching cube algorithm\n",
    "verts, faces, normals, values = measure.marching_cubes_lewiner(vol, iso_val)\n",
    "\n",
    "# The surface is defined by a set of vertices (x,y,z coordinates) and the list faces (triplet of vertices indices). We optionally here have a values array\n",
    "surface = (verts, faces, values)\n",
    "\n",
    "with napari.gui_qt():\n",
    "    # create a Viewer and add an image here with the two channels and scaling\n",
    "    viewer = napari.view_image(img, channel_axis=1, name=['dapi', 'fitc'], scale=[10,1,1])\n",
    "    viewer.add_surface(surface,colormap='jet',scale=[10,1,1])"
   ]
  },
  {
   "source": [
    "Napari can load chunks of image from a zarr file store in order to enable the visualization of large data sets (for example a few ~TB). Let's use the file created in the first example."
   ],
   "cell_type": "markdown",
   "metadata": {}
  },
  {
   "cell_type": "code",
   "execution_count": null,
   "metadata": {},
   "outputs": [],
   "source": [
    "# import the zarr module\n",
    "import zarr\n",
    "\n",
    "# Open a zarr file\n",
    "z = zarr.open('../scratch/tmp.zarr', mode='r')\n",
    "\n",
    "# Display the file as if it was the original numpy image:\n",
    "with napari.gui_qt():\n",
    "    viewer = napari.view_image(z, channel_axis=1, name=['dapi', 'fitc'], scale=[10,1,1])\n"
   ]
  },
  {
   "cell_type": "code",
   "execution_count": null,
   "metadata": {},
   "outputs": [],
   "source": [
    "import napari\n",
    "with napari.gui_qt():\n",
    "    viewer = napari.Viewer()\n"
   ]
  }
 ]
}