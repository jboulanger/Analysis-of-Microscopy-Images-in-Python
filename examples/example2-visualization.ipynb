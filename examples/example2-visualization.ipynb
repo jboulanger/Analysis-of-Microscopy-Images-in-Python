{
 "metadata": {
  "language_info": {
   "codemirror_mode": {
    "name": "ipython",
    "version": 3
   },
   "file_extension": ".py",
   "mimetype": "text/x-python",
   "name": "python",
   "nbconvert_exporter": "python",
   "pygments_lexer": "ipython3",
   "version": "3.8.5-final"
  },
  "orig_nbformat": 2,
  "kernelspec": {
   "name": "python3",
   "display_name": "Python 3.8.5 64-bit ('imageanalysis': conda)",
   "metadata": {
    "interpreter": {
     "hash": "f6cb53e4cae58c19d01a25dc0dace12f397db98da729074f7b2c82d85c25fd9c"
    }
   }
  }
 },
 "nbformat": 4,
 "nbformat_minor": 2,
 "cells": [
  {
   "source": [
    "# Visualization\n",
    "\n",
    "Let's load first an image\n"
   ],
   "cell_type": "markdown",
   "metadata": {}
  },
  {
   "cell_type": "code",
   "execution_count": null,
   "metadata": {},
   "outputs": [],
   "source": [
    "import tifffile\n",
    "import numpy as np\n",
    "\n",
    "filename = '../data/example.tif'\n",
    "img = tifffile.imread(filename)\n",
    "print(\"The shape of the array is [depth x channels x height x width]\", img.shape)"
   ]
  },
  {
   "source": [
    "We can display a 2D image using imshow from matplotlib. To display the two channels together, we create a RGB image using the to_rgb function."
   ],
   "cell_type": "markdown",
   "metadata": {}
  },
  {
   "cell_type": "code",
   "execution_count": null,
   "metadata": {},
   "outputs": [],
   "source": [
    "import matplotlib.pyplot as plt\n",
    "\n",
    "def to_rgb(array):\n",
    "    ''' Convert the a cxy 2 channel image to a xyc rgb image'''\n",
    "    shp = (array.shape[1],array.shape[2],3)\n",
    "    rgb = np.zeros(shp,dtype=array.dtype)\n",
    "    rgb[:,:,0] = array[0,:,:]\n",
    "    rgb[:,:,1] = array[1,:,:]\n",
    "    return rgb\n",
    "\n",
    "plt.imshow(to_rgb(img[12,:,:,:]))\n",
    "plt.axis('off')\n",
    "plt.show()"
   ]
  },
  {
   "source": [
    "Let's add a widget to explore the z serie:"
   ],
   "cell_type": "markdown",
   "metadata": {}
  },
  {
   "cell_type": "code",
   "execution_count": null,
   "metadata": {},
   "outputs": [],
   "source": [
    "from ipywidgets import *\n",
    "\n",
    "slider = widgets.IntSlider(value=1,min=1,max=25,step=1,description=\"Z\",disabled=False)\n",
    "\n",
    "def update(z):\n",
    "    if z < img.shape[0]:\n",
    "        plt.imshow(to_rgb(img[z-1,:,:,:]))\n",
    "        plt.title(z)\n",
    "\n",
    "interact(update,z=slider);\n",
    "\n"
   ]
  },
  {
   "source": [
    "## 3D rendering of volumes"
   ],
   "cell_type": "markdown",
   "metadata": {}
  },
  {
   "source": [
    "### Using ipyvolume\n",
    "We can use ipyvolume to render interactively images in a notebook. This will run only in a browser. We install ipyvolume in conda using: \n",
    "```conda install -c conda-forge ipyvolume```"
   ],
   "cell_type": "markdown",
   "metadata": {}
  },
  {
   "cell_type": "code",
   "execution_count": null,
   "metadata": {},
   "outputs": [],
   "source": [
    "#import ipyvolume as ipv\n",
    "#ipv.figure()\n",
    "#ipv.volshow(img[:,1,:,:])"
   ]
  },
  {
   "source": [
    "## Using napari\n",
    "\n",
    "Napari is a visualization program designed for browsing, annotating, and analyzing large multi-dimensional images.\n",
    "```conda install -c conda-forge napari ```\n",
    "We are in a notebook and we need to initialize the GUI interface before by running (```%gui qt```) before hand as it takes a few seconds to initialize:"
   ],
   "cell_type": "markdown",
   "metadata": {}
  },
  {
   "cell_type": "code",
   "execution_count": null,
   "metadata": {},
   "outputs": [],
   "source": [
    "%gui qt"
   ]
  },
  {
   "source": [
    "We first visualize our volume with its 2 channels:"
   ],
   "cell_type": "markdown",
   "metadata": {}
  },
  {
   "cell_type": "code",
   "execution_count": null,
   "metadata": {},
   "outputs": [],
   "source": [
    "import napari\n",
    "\n",
    "with napari.gui_qt():\n",
    "    # create a Viewer and add an image here with the two channels and scaling\n",
    "    napari.view_image(img,channel_axis=1,name=['dapi', 'fitc'],scale=[10,1,1])"
   ]
  },
  {
   "source": [
    "Let's add an iso-surface. We first smooth the surface using a Gaussian filter and then compute a triangulation of the isosurface using the marching cubes algorithm."
   ],
   "cell_type": "markdown",
   "metadata": {}
  },
  {
   "cell_type": "code",
   "execution_count": null,
   "metadata": {},
   "outputs": [],
   "source": [
    "from skimage import measure\n",
    "from skimage import filters\n",
    "from mpl_toolkits.mplot3d import Axes3D\n",
    "from mpl_toolkits.mplot3d.art3d import Poly3DCollection\n",
    "\n",
    "iso_val = 64 # iso value / threshold\n",
    "vol = filters.gaussian(np.squeeze(img[:,1,:,:]),2,preserve_range=True)\n",
    "verts, faces, normals, values = measure.marching_cubes_lewiner(vol, iso_val)\n",
    "surface = (verts, faces, values)\n",
    "\n",
    "with napari.gui_qt():\n",
    "    # create a Viewer and add an image here with the two channels and scaling\n",
    "    viewer = napari.view_image(img,channel_axis=1,name=['dapi', 'fitc'],scale=[10,1,1])\n",
    "    viewer.add_surface(surface,colormap='jet',scale=[10,1,1])"
   ]
  }
 ]
}