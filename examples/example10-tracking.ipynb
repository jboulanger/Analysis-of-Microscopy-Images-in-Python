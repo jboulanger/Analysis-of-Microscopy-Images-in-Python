{
 "cells": [
  {
   "cell_type": "markdown",
   "metadata": {
    "collapsed": false
   },
   "source": [
    "# Tracking\n",
    "\n",
    "There are various tracking library we can use to link object over time in order to define trajectories.\n"
   ]
  },
  {
   "cell_type": "markdown",
   "metadata": {
    "collapsed": false
   },
   "source": [
    "## Bayesian tracker \n",
    "\n",
    "The first tracker that we will test is the BayesianTracker https://github.com/quantumjot/BayesianTracker .\n",
    "\n",
    "Reference:\n",
    "Automated deep lineage tree analysis using a Bayesian single cell tracking approach, Ulicna K, Vallardi G, Charras G and Lowe AR., bioRxiv (2020), https://www.biorxiv.org/content/early/2020/09/10/2020.09.10.276980\n",
    "\n",
    "Installation\n",
    "We can install the package using ```pip install btrack```\n",
    "\n",
    "Let's try a first example"
   ]
  },
  {
   "cell_type": "code",
   "execution_count": 1,
   "metadata": {
    "collapsed": false
   },
   "outputs": [
    {
     "data": {
      "text/plain": [
       "[<matplotlib.lines.Line2D at 0x7f90f5082430>]"
      ]
     },
     "execution_count": 1,
     "metadata": {},
     "output_type": "execute_result"
    },
    {
     "data": {
      "image/png": "[encoded data removed]",
      "text/plain": [
       "<Figure size 432x288 with 1 Axes>"
      ]
     },
     "metadata": {
      "needs_background": "light"
     },
     "output_type": "display_data"
    }
   ],
   "source": [
    "import btrack\n",
    "import numpy as np\n",
    "import matplotlib.pyplot as plt\n",
    "\n",
    "# We define a list of positions we want to track later\n",
    "num_objects = 10 # number of objects\n",
    "num_frame = 20 # number of time points\n",
    "pts = [] # list of set of coordinates\n",
    "for k in range(num_frame):\n",
    "    if k==0:\n",
    "        pts.append(np.hstack([np.random.rand(10,2), np.zeros((10,1))]))\n",
    "    else:\n",
    "        pts.append(pts[k-1]+np.hstack([0.01*np.random.randn(10,2), np.ones((10,1))]))\n",
    "        \n",
    "localizations = np.concatenate(pts)\n",
    "plt.plot(localizations[:,0], localizations[:,1],'.')"
   ]
  },
  {
   "cell_type": "code",
   "execution_count": 2,
   "metadata": {
    "collapsed": false
   },
   "outputs": [
    {
     "data": {
      "text/plain": [
       "('../scratch/cell_config.json', <http.client.HTTPMessage at 0x7f91d9312340>)"
      ]
     },
     "execution_count": 2,
     "metadata": {},
     "output_type": "execute_result"
    }
   ],
   "source": [
    "# Download a generic motion model to use with btrack\n",
    "from urllib.request import urlretrieve\n",
    "url = 'https://raw.githubusercontent.com/quantumjot/BayesianTracker/7d80399db64af4723c1da2381a22d9910e1ba7c8/models/cell_config.json'\n",
    "config = '../scratch/cell_config.json'\n",
    "urlretrieve(url, config)"
   ]
  },
  {
   "cell_type": "code",
   "execution_count": 4,
   "metadata": {
    "collapsed": false
   },
   "outputs": [
    {
     "name": "stderr",
     "output_type": "stream",
     "text": [
      "[INFO][2021/07/07 02:30:36 PM] Loaded btrack: /home/jeromeb/miniconda3/envs/imaging/lib/python3.9/site-packages/btrack/libs/libtracker.so\n"
     ]
    },
    {
     "name": "stderr",
     "output_type": "stream",
     "text": [
      "[INFO][2021/07/07 02:30:36 PM] btrack (v0.4.1) library imported\n"
     ]
    },
    {
     "name": "stderr",
     "output_type": "stream",
     "text": [
      "[INFO][2021/07/07 02:30:36 PM] Setting max XYZ search radius to: 100\n"
     ]
    },
    {
     "name": "stderr",
     "output_type": "stream",
     "text": [
      "[INFO][2021/07/07 02:30:36 PM] Starting BayesianTracker session\n"
     ]
    },
    {
     "name": "stderr",
     "output_type": "stream",
     "text": [
      "[INFO][2021/07/07 02:30:36 PM] Loading configuration file: ../scratch/cell_config.json\n"
     ]
    },
    {
     "name": "stderr",
     "output_type": "stream",
     "text": [
      "[INFO][2021/07/07 02:30:36 PM] Loading motion model: b'cell_motion'\n"
     ]
    },
    {
     "name": "stderr",
     "output_type": "stream",
     "text": [
      "[INFO][2021/07/07 02:30:36 PM] Objects are of type: <class 'list'>\n"
     ]
    },
    {
     "name": "stderr",
     "output_type": "stream",
     "text": [
      "[INFO][2021/07/07 02:30:36 PM] Set volume to ((-0.5, 1.5), (-0.5, 1.5), (-100000.0, 100000.0))\n"
     ]
    },
    {
     "name": "stderr",
     "output_type": "stream",
     "text": [
      "[INFO][2021/07/07 02:30:36 PM] Starting tracking... \n"
     ]
    },
    {
     "name": "stderr",
     "output_type": "stream",
     "text": [
      "[INFO][2021/07/07 02:30:36 PM] Tracking objects in frames 0 to 0 (of 20)...\n"
     ]
    },
    {
     "name": "stderr",
     "output_type": "stream",
     "text": [
      "[INFO][2021/07/07 02:30:36 PM]  - Timing (Bayesian updates: 0.30ms, Linking: 0.35ms)\n"
     ]
    },
    {
     "name": "stderr",
     "output_type": "stream",
     "text": [
      "[INFO][2021/07/07 02:30:36 PM]  - Probabilities (Link: 0.10407, Lost: 0.00000)\n"
     ]
    },
    {
     "name": "stderr",
     "output_type": "stream",
     "text": [
      "[INFO][2021/07/07 02:30:36 PM]  - Stats (Active: 12, Lost: 0, Conflicts resolved: 5)\n"
     ]
    },
    {
     "name": "stderr",
     "output_type": "stream",
     "text": [
      "[INFO][2021/07/07 02:30:36 PM] Tracking objects in frames 1 to 1 (of 20)...\n"
     ]
    },
    {
     "name": "stderr",
     "output_type": "stream",
     "text": [
      "[INFO][2021/07/07 02:30:36 PM]  - Timing (Bayesian updates: 0.18ms, Linking: 0.08ms)\n"
     ]
    },
    {
     "name": "stderr",
     "output_type": "stream",
     "text": [
      "[INFO][2021/07/07 02:30:36 PM]  - Probabilities (Link: 0.12328, Lost: 0.00000)\n"
     ]
    },
    {
     "name": "stderr",
     "output_type": "stream",
     "text": [
      "[INFO][2021/07/07 02:30:36 PM]  - Stats (Active: 15, Lost: 0, Conflicts resolved: 8)\n"
     ]
    },
    {
     "name": "stderr",
     "output_type": "stream",
     "text": [
      "[INFO][2021/07/07 02:30:36 PM] Tracking objects in frames 2 to 2 (of 20)...\n"
     ]
    },
    {
     "name": "stderr",
     "output_type": "stream",
     "text": [
      "[INFO][2021/07/07 02:30:36 PM]  - Timing (Bayesian updates: 0.19ms, Linking: 0.09ms)\n"
     ]
    },
    {
     "name": "stderr",
     "output_type": "stream",
     "text": [
      "[INFO][2021/07/07 02:30:36 PM]  - Probabilities (Link: 0.12836, Lost: 0.13318)\n"
     ]
    },
    {
     "name": "stderr",
     "output_type": "stream",
     "text": [
      "[INFO][2021/07/07 02:30:36 PM]  - Stats (Active: 17, Lost: 2, Conflicts resolved: 10)\n"
     ]
    },
    {
     "name": "stderr",
     "output_type": "stream",
     "text": [
      "[INFO][2021/07/07 02:30:36 PM] Tracking objects in frames 3 to 3 (of 20)...\n"
     ]
    },
    {
     "name": "stderr",
     "output_type": "stream",
     "text": [
      "[INFO][2021/07/07 02:30:36 PM]  - Timing (Bayesian updates: 0.19ms, Linking: 0.09ms)\n"
     ]
    },
    {
     "name": "stderr",
     "output_type": "stream",
     "text": [
      "[INFO][2021/07/07 02:30:36 PM]  - Probabilities (Link: 0.10213, Lost: 0.13318)\n"
     ]
    },
    {
     "name": "stderr",
     "output_type": "stream",
     "text": [
      "[INFO][2021/07/07 02:30:36 PM]  - Stats (Active: 19, Lost: 5, Conflicts resolved: 13)\n"
     ]
    },
    {
     "name": "stderr",
     "output_type": "stream",
     "text": [
      "[INFO][2021/07/07 02:30:36 PM] Tracking objects in frames 4 to 4 (of 20)...\n"
     ]
    },
    {
     "name": "stderr",
     "output_type": "stream",
     "text": [
      "[INFO][2021/07/07 02:30:36 PM]  - Timing (Bayesian updates: 0.19ms, Linking: 0.10ms)\n"
     ]
    },
    {
     "name": "stderr",
     "output_type": "stream",
     "text": [
      "[INFO][2021/07/07 02:30:36 PM]  - Probabilities (Link: 0.11881, Lost: 0.13318)\n"
     ]
    },
    {
     "name": "stderr",
     "output_type": "stream",
     "text": [
      "[INFO][2021/07/07 02:30:36 PM]  - Stats (Active: 21, Lost: 11, Conflicts resolved: 16)\n"
     ]
    },
    {
     "name": "stderr",
     "output_type": "stream",
     "text": [
      "[INFO][2021/07/07 02:30:36 PM] Tracking objects in frames 5 to 5 (of 20)...\n"
     ]
    },
    {
     "name": "stderr",
     "output_type": "stream",
     "text": [
      "[INFO][2021/07/07 02:30:36 PM]  - Timing (Bayesian updates: 0.20ms, Linking: 0.10ms)\n"
     ]
    },
    {
     "name": "stderr",
     "output_type": "stream",
     "text": [
      "[INFO][2021/07/07 02:30:36 PM]  - Probabilities (Link: 0.12459, Lost: 0.13318)\n"
     ]
    },
    {
     "name": "stderr",
     "output_type": "stream",
     "text": [
      "[INFO][2021/07/07 02:30:36 PM]  - Stats (Active: 21, Lost: 17, Conflicts resolved: 18)\n"
     ]
    },
    {
     "name": "stderr",
     "output_type": "stream",
     "text": [
      "[INFO][2021/07/07 02:30:36 PM] Tracking objects in frames 6 to 6 (of 20)...\n"
     ]
    },
    {
     "name": "stderr",
     "output_type": "stream",
     "text": [
      "[INFO][2021/07/07 02:30:36 PM]  - Timing (Bayesian updates: 0.19ms, Linking: 0.10ms)\n"
     ]
    },
    {
     "name": "stderr",
     "output_type": "stream",
     "text": [
      "[INFO][2021/07/07 02:30:36 PM]  - Probabilities (Link: 0.12694, Lost: 0.13319)\n"
     ]
    },
    {
     "name": "stderr",
     "output_type": "stream",
     "text": [
      "[INFO][2021/07/07 02:30:36 PM]  - Stats (Active: 18, Lost: 21, Conflicts resolved: 21)\n"
     ]
    },
    {
     "name": "stderr",
     "output_type": "stream",
     "text": [
      "[INFO][2021/07/07 02:30:36 PM] Tracking objects in frames 7 to 7 (of 20)...\n"
     ]
    },
    {
     "name": "stderr",
     "output_type": "stream",
     "text": [
      "[INFO][2021/07/07 02:30:36 PM]  - Timing (Bayesian updates: 0.19ms, Linking: 0.10ms)\n"
     ]
    },
    {
     "name": "stderr",
     "output_type": "stream",
     "text": [
      "[INFO][2021/07/07 02:30:36 PM]  - Probabilities (Link: 0.12300, Lost: 0.13319)\n"
     ]
    },
    {
     "name": "stderr",
     "output_type": "stream",
     "text": [
      "[INFO][2021/07/07 02:30:36 PM]  - Stats (Active: 18, Lost: 26, Conflicts resolved: 23)\n"
     ]
    },
    {
     "name": "stderr",
     "output_type": "stream",
     "text": [
      "[INFO][2021/07/07 02:30:36 PM] Tracking objects in frames 8 to 8 (of 20)...\n"
     ]
    },
    {
     "name": "stderr",
     "output_type": "stream",
     "text": [
      "[INFO][2021/07/07 02:30:36 PM]  - Timing (Bayesian updates: 0.20ms, Linking: 0.09ms)\n"
     ]
    },
    {
     "name": "stderr",
     "output_type": "stream",
     "text": [
      "[INFO][2021/07/07 02:30:36 PM]  - Probabilities (Link: 0.12618, Lost: 0.36797)\n"
     ]
    },
    {
     "name": "stderr",
     "output_type": "stream",
     "text": [
      "[INFO][2021/07/07 02:30:36 PM]  - Stats (Active: 17, Lost: 30, Conflicts resolved: 25)\n"
     ]
    },
    {
     "name": "stderr",
     "output_type": "stream",
     "text": [
      "[INFO][2021/07/07 02:30:36 PM] Tracking objects in frames 9 to 9 (of 20)...\n"
     ]
    },
    {
     "name": "stderr",
     "output_type": "stream",
     "text": [
      "[INFO][2021/07/07 02:30:36 PM]  - Timing (Bayesian updates: 0.18ms, Linking: 0.09ms)\n"
     ]
    },
    {
     "name": "stderr",
     "output_type": "stream",
     "text": [
      "[INFO][2021/07/07 02:30:36 PM]  - Probabilities (Link: 0.12749, Lost: 0.13318)\n"
     ]
    },
    {
     "name": "stderr",
     "output_type": "stream",
     "text": [
      "[INFO][2021/07/07 02:30:36 PM]  - Stats (Active: 16, Lost: 34, Conflicts resolved: 28)\n"
     ]
    },
    {
     "name": "stderr",
     "output_type": "stream",
     "text": [
      "[INFO][2021/07/07 02:30:36 PM] Tracking objects in frames 10 to 10 (of 20)...\n"
     ]
    },
    {
     "name": "stderr",
     "output_type": "stream",
     "text": [
      "[INFO][2021/07/07 02:30:36 PM]  - Timing (Bayesian updates: 0.17ms, Linking: 0.08ms)\n"
     ]
    },
    {
     "name": "stderr",
     "output_type": "stream",
     "text": [
      "[INFO][2021/07/07 02:30:36 PM]  - Probabilities (Link: 0.10248, Lost: 0.36796)\n"
     ]
    },
    {
     "name": "stderr",
     "output_type": "stream",
     "text": [
      "[INFO][2021/07/07 02:30:36 PM]  - Stats (Active: 16, Lost: 36, Conflicts resolved: 32)\n"
     ]
    },
    {
     "name": "stderr",
     "output_type": "stream",
     "text": [
      "[INFO][2021/07/07 02:30:36 PM] Tracking objects in frames 11 to 11 (of 20)...\n"
     ]
    },
    {
     "name": "stderr",
     "output_type": "stream",
     "text": [
      "[INFO][2021/07/07 02:30:36 PM]  - Timing (Bayesian updates: 0.17ms, Linking: 0.08ms)\n"
     ]
    },
    {
     "name": "stderr",
     "output_type": "stream",
     "text": [
      "[INFO][2021/07/07 02:30:36 PM]  - Probabilities (Link: 0.15571, Lost: 0.62982)\n"
     ]
    },
    {
     "name": "stderr",
     "output_type": "stream",
     "text": [
      "[INFO][2021/07/07 02:30:36 PM]  - Stats (Active: 16, Lost: 38, Conflicts resolved: 35)\n"
     ]
    },
    {
     "name": "stderr",
     "output_type": "stream",
     "text": [
      "[INFO][2021/07/07 02:30:36 PM] Tracking objects in frames 12 to 12 (of 20)...\n"
     ]
    },
    {
     "name": "stderr",
     "output_type": "stream",
     "text": [
      "[INFO][2021/07/07 02:30:36 PM]  - Timing (Bayesian updates: 0.16ms, Linking: 0.08ms)\n"
     ]
    },
    {
     "name": "stderr",
     "output_type": "stream",
     "text": [
      "[INFO][2021/07/07 02:30:36 PM]  - Probabilities (Link: 0.13199, Lost: 0.28625)\n"
     ]
    },
    {
     "name": "stderr",
     "output_type": "stream",
     "text": [
      "[INFO][2021/07/07 02:30:36 PM]  - Stats (Active: 16, Lost: 40, Conflicts resolved: 37)\n"
     ]
    },
    {
     "name": "stderr",
     "output_type": "stream",
     "text": [
      "[INFO][2021/07/07 02:30:36 PM] Tracking objects in frames 13 to 13 (of 20)...\n"
     ]
    },
    {
     "name": "stderr",
     "output_type": "stream",
     "text": [
      "[INFO][2021/07/07 02:30:36 PM]  - Timing (Bayesian updates: 0.17ms, Linking: 0.08ms)\n"
     ]
    },
    {
     "name": "stderr",
     "output_type": "stream",
     "text": [
      "[INFO][2021/07/07 02:30:36 PM]  - Probabilities (Link: 0.10895, Lost: 0.28625)\n"
     ]
    },
    {
     "name": "stderr",
     "output_type": "stream",
     "text": [
      "[INFO][2021/07/07 02:30:36 PM]  - Stats (Active: 16, Lost: 43, Conflicts resolved: 39)\n"
     ]
    },
    {
     "name": "stderr",
     "output_type": "stream",
     "text": [
      "[INFO][2021/07/07 02:30:36 PM] Tracking objects in frames 14 to 14 (of 20)...\n"
     ]
    },
    {
     "name": "stderr",
     "output_type": "stream",
     "text": [
      "[INFO][2021/07/07 02:30:36 PM]  - Timing (Bayesian updates: 0.14ms, Linking: 0.08ms)\n"
     ]
    },
    {
     "name": "stderr",
     "output_type": "stream",
     "text": [
      "[INFO][2021/07/07 02:30:36 PM]  - Probabilities (Link: 0.13500, Lost: 0.13318)\n"
     ]
    },
    {
     "name": "stderr",
     "output_type": "stream",
     "text": [
      "[INFO][2021/07/07 02:30:36 PM]  - Stats (Active: 16, Lost: 47, Conflicts resolved: 42)\n"
     ]
    },
    {
     "name": "stderr",
     "output_type": "stream",
     "text": [
      "[INFO][2021/07/07 02:30:36 PM] Tracking objects in frames 15 to 15 (of 20)...\n"
     ]
    },
    {
     "name": "stderr",
     "output_type": "stream",
     "text": [
      "[INFO][2021/07/07 02:30:36 PM]  - Timing (Bayesian updates: 0.17ms, Linking: 0.08ms)\n"
     ]
    },
    {
     "name": "stderr",
     "output_type": "stream",
     "text": [
      "[INFO][2021/07/07 02:30:36 PM]  - Probabilities (Link: 0.17462, Lost: 0.36796)\n"
     ]
    },
    {
     "name": "stderr",
     "output_type": "stream",
     "text": [
      "[INFO][2021/07/07 02:30:36 PM]  - Stats (Active: 16, Lost: 49, Conflicts resolved: 46)\n"
     ]
    },
    {
     "name": "stderr",
     "output_type": "stream",
     "text": [
      "[INFO][2021/07/07 02:30:36 PM] Tracking objects in frames 16 to 16 (of 20)...\n"
     ]
    },
    {
     "name": "stderr",
     "output_type": "stream",
     "text": [
      "[INFO][2021/07/07 02:30:36 PM]  - Timing (Bayesian updates: 0.17ms, Linking: 0.08ms)\n"
     ]
    },
    {
     "name": "stderr",
     "output_type": "stream",
     "text": [
      "[INFO][2021/07/07 02:30:36 PM]  - Probabilities (Link: 0.18417, Lost: 0.62982)\n"
     ]
    },
    {
     "name": "stderr",
     "output_type": "stream",
     "text": [
      "[INFO][2021/07/07 02:30:36 PM] SUCCESS.\n"
     ]
    },
    {
     "name": "stderr",
     "output_type": "stream",
     "text": [
      "[INFO][2021/07/07 02:30:36 PM]  - Found 39 tracks in 20 frames (in 0.0s)\n"
     ]
    },
    {
     "name": "stderr",
     "output_type": "stream",
     "text": [
      "[INFO][2021/07/07 02:30:36 PM]  - Inserted 0 dummy objects to fill tracking gaps\n"
     ]
    },
    {
     "name": "stderr",
     "output_type": "stream",
     "text": [
      "[INFO][2021/07/07 02:30:36 PM] Loading hypothesis model: cell_hypothesis\n"
     ]
    },
    {
     "name": "stderr",
     "output_type": "stream",
     "text": [
      "[INFO][2021/07/07 02:30:36 PM] Calculating hypotheses (relax: True)...\n"
     ]
    },
    {
     "name": "stderr",
     "output_type": "stream",
     "text": [
      "[INFO][2021/07/07 02:30:36 PM] Setting up constraints matrix for global optimisation...\n"
     ]
    },
    {
     "name": "stderr",
     "output_type": "stream",
     "text": [
      "[INFO][2021/07/07 02:30:36 PM] Optimizing...\n"
     ]
    },
    {
     "name": "stderr",
     "output_type": "stream",
     "text": [
      "[INFO][2021/07/07 02:30:36 PM] Optimization complete. (Solution: optimal)\n"
     ]
    },
    {
     "name": "stderr",
     "output_type": "stream",
     "text": [
      "[INFO][2021/07/07 02:30:36 PM]  - Fates.FALSE_POSITIVE: 0 (of 39)\n"
     ]
    },
    {
     "name": "stderr",
     "output_type": "stream",
     "text": [
      "[INFO][2021/07/07 02:30:36 PM]  - Fates.LINK: 29 (of 99)\n"
     ]
    },
    {
     "name": "stderr",
     "output_type": "stream",
     "text": [
      "[INFO][2021/07/07 02:30:36 PM]  - Fates.DIVIDE: 0 (of 136)\n"
     ]
    },
    {
     "name": "stderr",
     "output_type": "stream",
     "text": [
      "[INFO][2021/07/07 02:30:36 PM]  - Fates.INITIALIZE_BORDER: 4 (of 33)\n"
     ]
    },
    {
     "name": "stderr",
     "output_type": "stream",
     "text": [
      "[INFO][2021/07/07 02:30:36 PM]  - Fates.INITIALIZE_FRONT: 6 (of 6)\n"
     ]
    },
    {
     "name": "stderr",
     "output_type": "stream",
     "text": [
      "[INFO][2021/07/07 02:30:36 PM]  - Fates.TERMINATE_BORDER: 4 (of 33)\n"
     ]
    },
    {
     "name": "stderr",
     "output_type": "stream",
     "text": [
      "[INFO][2021/07/07 02:30:36 PM]  - Fates.TERMINATE_BACK: 6 (of 6)\n"
     ]
    },
    {
     "name": "stderr",
     "output_type": "stream",
     "text": [
      "[INFO][2021/07/07 02:30:36 PM]  - TOTAL: 352 hypotheses\n"
     ]
    },
    {
     "name": "stderr",
     "output_type": "stream",
     "text": [
      "[INFO][2021/07/07 02:30:36 PM] Completed optimization with 10 tracks\n"
     ]
    },
    {
     "name": "stderr",
     "output_type": "stream",
     "text": [
      "[INFO][2021/07/07 02:30:36 PM] Ending BayesianTracker session\n"
     ]
    }
   ],
   "source": [
    "# Convert the numpy localization as PyTrackObjects\n",
    "objects = btrack.dataio.objects_from_array(localizations, ['x', 'y', 't'])\n",
    "\n",
    "with btrack.BayesianTracker() as tracker:\n",
    "    # load the configuration file\n",
    "    tracker.configure_from_file(config)\n",
    "    # add the objects to the tracker\n",
    "    tracker.append(objects)\n",
    "    tracker.volume=((-0.5, 1.5), (-0.5, 1.5), (-1e5, 1e5))\n",
    "    # tracl objects\n",
    "    tracker.track_interactive(step_size=1)\n",
    "    # run the global optimizer\n",
    "    tracker.optimize()\n",
    "    # tracks as a python list\n",
    "    tracks = tracker.tracks\n",
    "    # get tracks formated for napari\n",
    "    data, properties, graph = tracker.to_napari(ndim=2)"
   ]
  },
  {
   "cell_type": "markdown",
   "metadata": {
    "collapsed": false
   },
   "source": [
    "To represent the tracks in 2D we can plot them individually.  tracker.tracks is a list of dictionnary containing various fields such as ID,x,y,z,t,parent,root,state,etc.."
   ]
  },
  {
   "cell_type": "code",
   "execution_count": 10,
   "metadata": {
    "collapsed": false
   },
   "outputs": [
    {
     "data": {
      "text/html": [
       "<table border=\"1\" class=\"dataframe\">\n",
       "  <thead>\n",
       "    <tr style=\"text-align: right;\">\n",
       "      <th></th>\n",
       "      <th>ID</th>\n",
       "      <th>t</th>\n",
       "      <th>x</th>\n",
       "      <th>y</th>\n",
       "      <th>z</th>\n",
       "      <th>parent</th>\n",
       "      <th>root</th>\n",
       "      <th>state</th>\n",
       "      <th>generation</th>\n",
       "      <th>dummy</th>\n",
       "    </tr>\n",
       "  </thead>\n",
       "  <tbody>\n",
       "    <tr>\n",
       "      <th>0</th>\n",
       "      <td>1</td>\n",
       "      <td>0</td>\n",
       "      <td>0.252476</td>\n",
       "      <td>0.478923</td>\n",
       "      <td>0.0</td>\n",
       "      <td>1</td>\n",
       "      <td>1</td>\n",
       "      <td>5</td>\n",
       "      <td>0</td>\n",
       "      <td>False</td>\n",
       "    </tr>\n",
       "    <tr>\n",
       "      <th>1</th>\n",
       "      <td>1</td>\n",
       "      <td>1</td>\n",
       "      <td>0.259370</td>\n",
       "      <td>0.474161</td>\n",
       "      <td>0.0</td>\n",
       "      <td>1</td>\n",
       "      <td>1</td>\n",
       "      <td>5</td>\n",
       "      <td>0</td>\n",
       "      <td>False</td>\n",
       "    </tr>\n",
       "    <tr>\n",
       "      <th>2</th>\n",
       "      <td>1</td>\n",
       "      <td>2</td>\n",
       "      <td>0.260796</td>\n",
       "      <td>0.473337</td>\n",
       "      <td>0.0</td>\n",
       "      <td>1</td>\n",
       "      <td>1</td>\n",
       "      <td>5</td>\n",
       "      <td>0</td>\n",
       "      <td>False</td>\n",
       "    </tr>\n",
       "    <tr>\n",
       "      <th>3</th>\n",
       "      <td>1</td>\n",
       "      <td>3</td>\n",
       "      <td>0.265955</td>\n",
       "      <td>0.476370</td>\n",
       "      <td>0.0</td>\n",
       "      <td>1</td>\n",
       "      <td>1</td>\n",
       "      <td>5</td>\n",
       "      <td>0</td>\n",
       "      <td>False</td>\n",
       "    </tr>\n",
       "    <tr>\n",
       "      <th>4</th>\n",
       "      <td>1</td>\n",
       "      <td>4</td>\n",
       "      <td>0.247338</td>\n",
       "      <td>0.481748</td>\n",
       "      <td>0.0</td>\n",
       "      <td>1</td>\n",
       "      <td>1</td>\n",
       "      <td>5</td>\n",
       "      <td>0</td>\n",
       "      <td>False</td>\n",
       "    </tr>\n",
       "    <tr>\n",
       "      <th>5</th>\n",
       "      <td>1</td>\n",
       "      <td>5</td>\n",
       "      <td>0.229385</td>\n",
       "      <td>0.474231</td>\n",
       "      <td>0.0</td>\n",
       "      <td>1</td>\n",
       "      <td>1</td>\n",
       "      <td>5</td>\n",
       "      <td>0</td>\n",
       "      <td>False</td>\n",
       "    </tr>\n",
       "    <tr>\n",
       "      <th>6</th>\n",
       "      <td>1</td>\n",
       "      <td>6</td>\n",
       "      <td>0.235817</td>\n",
       "      <td>0.471858</td>\n",
       "      <td>0.0</td>\n",
       "      <td>1</td>\n",
       "      <td>1</td>\n",
       "      <td>5</td>\n",
       "      <td>0</td>\n",
       "      <td>False</td>\n",
       "    </tr>\n",
       "    <tr>\n",
       "      <th>7</th>\n",
       "      <td>1</td>\n",
       "      <td>7</td>\n",
       "      <td>0.233573</td>\n",
       "      <td>0.469195</td>\n",
       "      <td>0.0</td>\n",
       "      <td>1</td>\n",
       "      <td>1</td>\n",
       "      <td>5</td>\n",
       "      <td>0</td>\n",
       "      <td>False</td>\n",
       "    </tr>\n",
       "    <tr>\n",
       "      <th>8</th>\n",
       "      <td>1</td>\n",
       "      <td>8</td>\n",
       "      <td>0.239520</td>\n",
       "      <td>0.494570</td>\n",
       "      <td>0.0</td>\n",
       "      <td>1</td>\n",
       "      <td>1</td>\n",
       "      <td>5</td>\n",
       "      <td>0</td>\n",
       "      <td>False</td>\n",
       "    </tr>\n",
       "    <tr>\n",
       "      <th>9</th>\n",
       "      <td>1</td>\n",
       "      <td>9</td>\n",
       "      <td>0.237373</td>\n",
       "      <td>0.492060</td>\n",
       "      <td>0.0</td>\n",
       "      <td>1</td>\n",
       "      <td>1</td>\n",
       "      <td>5</td>\n",
       "      <td>0</td>\n",
       "      <td>False</td>\n",
       "    </tr>\n",
       "    <tr>\n",
       "      <th>10</th>\n",
       "      <td>1</td>\n",
       "      <td>10</td>\n",
       "      <td>0.243370</td>\n",
       "      <td>0.476150</td>\n",
       "      <td>0.0</td>\n",
       "      <td>1</td>\n",
       "      <td>1</td>\n",
       "      <td>5</td>\n",
       "      <td>0</td>\n",
       "      <td>False</td>\n",
       "    </tr>\n",
       "    <tr>\n",
       "      <th>11</th>\n",
       "      <td>1</td>\n",
       "      <td>11</td>\n",
       "      <td>0.253245</td>\n",
       "      <td>0.465665</td>\n",
       "      <td>0.0</td>\n",
       "      <td>1</td>\n",
       "      <td>1</td>\n",
       "      <td>5</td>\n",
       "      <td>0</td>\n",
       "      <td>False</td>\n",
       "    </tr>\n",
       "    <tr>\n",
       "      <th>12</th>\n",
       "      <td>1</td>\n",
       "      <td>12</td>\n",
       "      <td>0.248114</td>\n",
       "      <td>0.463661</td>\n",
       "      <td>0.0</td>\n",
       "      <td>1</td>\n",
       "      <td>1</td>\n",
       "      <td>5</td>\n",
       "      <td>0</td>\n",
       "      <td>False</td>\n",
       "    </tr>\n",
       "    <tr>\n",
       "      <th>13</th>\n",
       "      <td>1</td>\n",
       "      <td>13</td>\n",
       "      <td>0.239976</td>\n",
       "      <td>0.465323</td>\n",
       "      <td>0.0</td>\n",
       "      <td>1</td>\n",
       "      <td>1</td>\n",
       "      <td>5</td>\n",
       "      <td>0</td>\n",
       "      <td>False</td>\n",
       "    </tr>\n",
       "    <tr>\n",
       "      <th>14</th>\n",
       "      <td>1</td>\n",
       "      <td>14</td>\n",
       "      <td>0.224706</td>\n",
       "      <td>0.477864</td>\n",
       "      <td>0.0</td>\n",
       "      <td>1</td>\n",
       "      <td>1</td>\n",
       "      <td>5</td>\n",
       "      <td>0</td>\n",
       "      <td>False</td>\n",
       "    </tr>\n",
       "    <tr>\n",
       "      <th>15</th>\n",
       "      <td>1</td>\n",
       "      <td>15</td>\n",
       "      <td>0.234596</td>\n",
       "      <td>0.467701</td>\n",
       "      <td>0.0</td>\n",
       "      <td>1</td>\n",
       "      <td>1</td>\n",
       "      <td>5</td>\n",
       "      <td>0</td>\n",
       "      <td>False</td>\n",
       "    </tr>\n",
       "    <tr>\n",
       "      <th>16</th>\n",
       "      <td>1</td>\n",
       "      <td>16</td>\n",
       "      <td>0.241723</td>\n",
       "      <td>0.464107</td>\n",
       "      <td>0.0</td>\n",
       "      <td>1</td>\n",
       "      <td>1</td>\n",
       "      <td>5</td>\n",
       "      <td>0</td>\n",
       "      <td>False</td>\n",
       "    </tr>\n",
       "    <tr>\n",
       "      <th>17</th>\n",
       "      <td>1</td>\n",
       "      <td>17</td>\n",
       "      <td>0.248902</td>\n",
       "      <td>0.469058</td>\n",
       "      <td>0.0</td>\n",
       "      <td>1</td>\n",
       "      <td>1</td>\n",
       "      <td>5</td>\n",
       "      <td>0</td>\n",
       "      <td>False</td>\n",
       "    </tr>\n",
       "    <tr>\n",
       "      <th>18</th>\n",
       "      <td>1</td>\n",
       "      <td>18</td>\n",
       "      <td>0.259654</td>\n",
       "      <td>0.463129</td>\n",
       "      <td>0.0</td>\n",
       "      <td>1</td>\n",
       "      <td>1</td>\n",
       "      <td>5</td>\n",
       "      <td>0</td>\n",
       "      <td>False</td>\n",
       "    </tr>\n",
       "  </tbody>\n",
       "</table>"
      ],
      "text/plain": [
       "OrderedDict([('ID', 1), ('t', [0, 1, 2, 3, 4, 5, 6, 7, 8, 9, 10, 11, 12, 13, 14, 15, 16, 17, 18]), ('x', [0.25247598522331594, 0.2593695260415804, 0.2607960161978933, 0.2659554298480584, 0.2473381322442404, 0.22938476175506334, 0.2358166471827544, 0.23357287400240695, 0.23952022480431895, 0.23737273466441577, 0.24336952675901735, 0.253245375633717, 0.24811378206579085, 0.2399759610729096, 0.22470612827414077, 0.23459585154526713, 0.24172326074207598, 0.248902040828827, 0.2596544405245468]), ('y', [0.4789226752359973, 0.4741614273417553, 0.4733370261020467, 0.4763704178222924, 0.4817484428044443, 0.474231423065946, 0.4718581237463777, 0.46919491439628924, 0.49457036351342126, 0.4920604117314398, 0.4761502408717465, 0.465665145352765, 0.4636607511076509, 0.46532323258450137, 0.4778642471850317, 0.46770141573367835, 0.46410661110641777, 0.4690579609238228, 0.46312903249903137]), ('z', [0.0, 0.0, 0.0, 0.0, 0.0, 0.0, 0.0, 0.0, 0.0, 0.0, 0.0, 0.0, 0.0, 0.0, 0.0, 0.0, 0.0, 0.0, 0.0]), ('parent', 1), ('root', 1), ('state', [5, 5, 5, 5, 5, 5, 5, 5, 5, 5, 5, 5, 5, 5, 5, 5, 5, 5, 5]), ('generation', 0), ('dummy', [False, False, False, False, False, False, False, False, False, False, False, False, False, False, False, False, False, False, False])])"
      ]
     },
     "execution_count": 10,
     "metadata": {},
     "output_type": "execute_result"
    },
    {
     "data": {
      "image/png": "[encoded data removed]",
      "text/plain": [
       "<Figure size 432x288 with 1 Axes>"
      ]
     },
     "metadata": {
      "needs_background": "light"
     },
     "output_type": "display_data"
    }
   ],
   "source": [
    "for trck in tracks:\n",
    "    plt.plot(trck.x,trck.y)"
   ]
  },
  {
   "cell_type": "markdown",
   "metadata": {
    "collapsed": false
   },
   "source": [
    "### Track visualization with napari\n",
    "note: if you run this with python 3.9, you need to use an specific version of networkx to be ```conda install -c conda-forge networkx=2.5```"
   ]
  },
  {
   "cell_type": "code",
   "execution_count": 5,
   "metadata": {
    "collapsed": false
   },
   "outputs": [
    {
     "name": "stderr",
     "output_type": "stream",
     "text": [
      "/home/jeromeb/miniconda3/envs/imaging/lib/python3.9/site-packages/napari/_vispy/vispy_camera.py:109: RuntimeWarning: divide by zero encountered in true_divide\n",
      "  zoom = np.min(canvas_size / scale)\n"
     ]
    },
    {
     "data": {
      "text/plain": [
       "<Tracks layer 'data' at 0x7f90ec707430>"
      ]
     },
     "execution_count": 5,
     "metadata": {},
     "output_type": "execute_result"
    }
   ],
   "source": [
    "import napari\n",
    "viewer = napari.Viewer()\n",
    "viewer.add_tracks(data, properties=properties, graph=graph)"
   ]
  },
  {
   "cell_type": "markdown",
   "metadata": {
    "collapsed": false
   },
   "source": [
    "## Tracking with trackpy\n",
    "\n",
    "http://soft-matter.github.io/trackpy/v0.5.0/\n"
   ]
  }
 ],
 "metadata": {
  "kernelspec": {
   "argv": [
    "/home/jeromeb/miniconda3/envs/imaging/bin/python",
    "-m",
    "ipykernel_launcher",
    "-f",
    "{connection_file}"
   ],
   "display_name": "cimaging",
   "env": null,
   "interrupt_mode": "signal",
   "language": "python",
   "metadata": null,
   "name": "imaging"
  },
  "language_info": {
   "codemirror_mode": {
    "name": "ipython",
    "version": 3
   },
   "file_extension": ".py",
   "mimetype": "text/x-python",
   "name": "python",
   "nbconvert_exporter": "python",
   "pygments_lexer": "ipython3",
   "version": 3
  },
  "name": "example10-tracking.ipynb"
 },
 "nbformat": 4,
 "nbformat_minor": 2
}
