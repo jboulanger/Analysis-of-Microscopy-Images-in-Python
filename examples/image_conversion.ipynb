{
 "metadata": {
  "language_info": {
   "codemirror_mode": {
    "name": "ipython",
    "version": 3
   },
   "file_extension": ".py",
   "mimetype": "text/x-python",
   "name": "python",
   "nbconvert_exporter": "python",
   "pygments_lexer": "ipython3",
   "version": "3.8.5"
  },
  "orig_nbformat": 2,
  "kernelspec": {
   "name": "python385jvsc74a57bd0f6cb53e4cae58c19d01a25dc0dace12f397db98da729074f7b2c82d85c25fd9c",
   "display_name": "Python 3.8.5 64-bit ('imageanalysis': conda)"
  }
 },
 "nbformat": 4,
 "nbformat_minor": 2,
 "cells": [
  {
   "cell_type": "code",
   "execution_count": 4,
   "metadata": {},
   "outputs": [],
   "source": [
    "from PIL import Image\n",
    "import matplotlib.pyplot as plt\n",
    "from skimage import data, io, util"
   ]
  },
  {
   "cell_type": "code",
   "execution_count": 5,
   "metadata": {},
   "outputs": [],
   "source": [
    "import cv2"
   ]
  },
  {
   "cell_type": "code",
   "execution_count": 12,
   "metadata": {},
   "outputs": [
    {
     "output_type": "stream",
     "name": "stdout",
     "text": [
      "['p12-01.png', 'p12-02.png', 'p12-03.png', 'p12-04.png', 'p12-05.png', 'p12-06.png', 'p12-07.png', 'p12-08.png', 'p12-09.png', 'p24-01.png', 'p24-02.png', 'p24-03.png', 'p24-04.png', 'p24-05.png', 'p24-06.png', 'p24-07.png', 'p24-08.png', 'p24-09.png', 'p9-01.png', 'p9-02.png', 'p9-03.png', 'p9-04.png', 'p9-05.png', 'p9-06.png', 'p9-07.png', 'p9-08.png', 'p9-09.png']\n",
      "Saving Z:\\slm-sim\\sim\\p12-01.png\n",
      "Saving Z:\\slm-sim\\sim\\p12-02.png\n",
      "Saving Z:\\slm-sim\\sim\\p12-03.png\n",
      "Saving Z:\\slm-sim\\sim\\p12-04.png\n",
      "Saving Z:\\slm-sim\\sim\\p12-05.png\n",
      "Saving Z:\\slm-sim\\sim\\p12-06.png\n",
      "Saving Z:\\slm-sim\\sim\\p12-07.png\n",
      "Saving Z:\\slm-sim\\sim\\p12-08.png\n",
      "Saving Z:\\slm-sim\\sim\\p12-09.png\n",
      "Saving Z:\\slm-sim\\sim\\p24-01.png\n",
      "Saving Z:\\slm-sim\\sim\\p24-02.png\n",
      "Saving Z:\\slm-sim\\sim\\p24-03.png\n",
      "Saving Z:\\slm-sim\\sim\\p24-04.png\n",
      "Saving Z:\\slm-sim\\sim\\p24-05.png\n",
      "Saving Z:\\slm-sim\\sim\\p24-06.png\n",
      "Saving Z:\\slm-sim\\sim\\p24-07.png\n",
      "Saving Z:\\slm-sim\\sim\\p24-08.png\n",
      "Saving Z:\\slm-sim\\sim\\p24-09.png\n",
      "Saving Z:\\slm-sim\\sim\\p9-01.png\n",
      "Saving Z:\\slm-sim\\sim\\p9-02.png\n",
      "Saving Z:\\slm-sim\\sim\\p9-03.png\n",
      "Saving Z:\\slm-sim\\sim\\p9-04.png\n",
      "Saving Z:\\slm-sim\\sim\\p9-05.png\n",
      "Saving Z:\\slm-sim\\sim\\p9-06.png\n",
      "Saving Z:\\slm-sim\\sim\\p9-07.png\n",
      "Saving Z:\\slm-sim\\sim\\p9-08.png\n",
      "Saving Z:\\slm-sim\\sim\\p9-09.png\n"
     ]
    }
   ],
   "source": [
    "import os\n",
    "\n",
    "mypath='Z:\\\\slm-sim\\\\sim'\n",
    "files = [f for f in os.listdir(mypath) if 'png' in f and not '-1bit' in f ]\n",
    "print(files)\n",
    "\n",
    "for f in files:\n",
    "    img = Image.open(os.path.join(mypath,f))\n",
    "    oname = os.path.join(mypath, f.replace('.png','.png'))\n",
    "    array = util.img_as_bool(img)\n",
    "    print(f'Saving {oname}')\n",
    "    _ = cv2.imwrite(oname, array.astype(int), [cv2.IMWRITE_PNG_BILEVEL, 1])\n",
    "\n"
   ]
  },
  {
   "cell_type": "code",
   "execution_count": 1,
   "metadata": {},
   "outputs": [],
   "source": [
    "import numpy as np\n",
    "import math\n",
    "\n",
    "def generate_parameters(N):\n",
    "    p[0][\"period\"] = 9\n",
    "    p[0][\"orientation\"] = 12\n",
    "    p[0][\"shift\"] = 10\n",
    "\n",
    "def generate_modulations(dims, params):\n",
    "    x,y = np.ndgrid(np.linspace(0,dims[0]-1,dims[0]), np.linspace(0,dims[1]-1,dims[1]))\n",
    "    for p in params:\n",
    "        kx = math.cos(angle/180*pi)/p[\"period\"]\n",
    "        ky = math.sin(angle/180*pi)/p[\"period\n",
    "    np.mod((kx*x+ky*y),p)\n",
    "\n",
    "im = generate_modulation(512,512,10,12,129) \n",
    "plt.imshow(im)\n"
   ]
  }
 ]
}